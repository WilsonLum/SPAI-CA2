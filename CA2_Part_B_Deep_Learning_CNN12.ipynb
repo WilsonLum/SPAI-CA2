{
 "cells": [
  {
   "cell_type": "markdown",
   "metadata": {
    "colab_type": "text",
    "id": "TdUkmOgXbWHr"
   },
   "source": [
    "# PART B: Deep LEARNING \n",
    "##    a) Implement an image classifier using a deep learning network. \n",
    "##    b) use the MNIST dataset\n",
    "\n",
    "## Lum Kok Keong \t(T7320307)\n",
    "## Thia Yu-Kai \t\t(T7320305)\n",
    "## Yeo Xin Mei \t\t(T7320311)\n",
    "\n",
    "## NSDAI2 Class 2 (Thursday)\n"
   ]
  },
  {
   "cell_type": "markdown",
   "metadata": {
    "colab_type": "text",
    "id": "3HNpmKsB4E2w"
   },
   "source": [
    "# Load the Data"
   ]
  },
  {
   "cell_type": "code",
   "execution_count": 0,
   "metadata": {
    "colab": {},
    "colab_type": "code",
    "id": "v9EtsIbD4E22"
   },
   "outputs": [],
   "source": [
    "import keras\n",
    "from keras.datasets import mnist\n",
    "from keras.models import Sequential\n",
    "from keras.layers import Dense, Dropout, Flatten\n",
    "from keras.layers import Conv2D, MaxPooling2D\n",
    "from keras import backend as K\n",
    "import tensorflow as tf\n",
    "import numpy\n",
    "K.set_image_dim_ordering('th')\n",
    "seed = 88\n",
    "numpy.random.seed(seed)\n",
    "\n",
    "(x_train, y_train), (x_test, y_test) = tf.keras.datasets.mnist.load_data()"
   ]
  },
  {
   "cell_type": "code",
   "execution_count": 17,
   "metadata": {
    "colab": {
     "base_uri": "https://localhost:8080/",
     "height": 300
    },
    "colab_type": "code",
    "id": "Sd0Xisv54E3J",
    "outputId": "17192dba-7365-4611-bb08-f5ab93bbeebf"
   },
   "outputs": [
    {
     "name": "stdout",
     "output_type": "stream",
     "text": [
      "8\n"
     ]
    },
    {
     "data": {
      "text/plain": [
       "<matplotlib.image.AxesImage at 0x7fcd02c1ca20>"
      ]
     },
     "execution_count": 17,
     "metadata": {
      "tags": []
     },
     "output_type": "execute_result"
    },
    {
     "data": {
      "image/png": "[encoded data removed]",
      "text/plain": [
       "<Figure size 432x288 with 1 Axes>"
      ]
     },
     "metadata": {
      "tags": []
     },
     "output_type": "display_data"
    }
   ],
   "source": [
    "import matplotlib.pyplot as plt\n",
    "%matplotlib inline\n",
    "\n",
    "#selecting a random image from the dataset\n",
    "image_index = 7777 \n",
    "\n",
    "# print the label\n",
    "print(y_train[image_index])\n",
    "\n",
    "#show the image\n",
    "plt.imshow(x_train[image_index], cmap='Greys') "
   ]
  },
  {
   "cell_type": "code",
   "execution_count": 19,
   "metadata": {
    "colab": {
     "base_uri": "https://localhost:8080/",
     "height": 34
    },
    "colab_type": "code",
    "id": "XKIy1rmv4E3b",
    "outputId": "d16eb9bd-fbf2-4448-bdfc-a4c36c3249e3"
   },
   "outputs": [
    {
     "data": {
      "text/plain": [
       "(60000, 28, 28)"
      ]
     },
     "execution_count": 19,
     "metadata": {
      "tags": []
     },
     "output_type": "execute_result"
    }
   ],
   "source": [
    "#show the shape of the data set\n",
    "x_train.shape"
   ]
  },
  {
   "cell_type": "markdown",
   "metadata": {
    "colab_type": "text",
    "id": "tk4WfUnb4E3v"
   },
   "source": [
    "# Normalize the data"
   ]
  },
  {
   "cell_type": "code",
   "execution_count": 20,
   "metadata": {
    "colab": {
     "base_uri": "https://localhost:8080/",
     "height": 86
    },
    "colab_type": "code",
    "id": "JMZIBm7z4E30",
    "outputId": "e7a64a87-7639-4e40-9db3-afb626ea0d2b"
   },
   "outputs": [
    {
     "name": "stdout",
     "output_type": "stream",
     "text": [
      "x_train shape: (60000, 1, 28, 28)\n",
      "Number of images in x_train 60000\n",
      "Number of images in x_test 10000\n",
      "10\n"
     ]
    }
   ],
   "source": [
    "from keras.utils import np_utils\n",
    "\n",
    "\n",
    "# flatten 28*28 images to a 784 vector for each image\n",
    "# reshaping the data so that it can work with the Keras API\n",
    "x_train = x_train.reshape(x_train.shape[0], 1, 28, 28).astype('float32')\n",
    "x_test = x_test.reshape(x_test.shape[0], 1, 28, 28).astype('float32')\n",
    "\n",
    "# normalize inputs from 0-255 to 0-1\n",
    "x_train /= 255\n",
    "x_test /= 255\n",
    "\n",
    "y_train = np_utils.to_categorical(y_train)\n",
    "y_test = np_utils.to_categorical(y_test)\n",
    "num_classes = y_test.shape[1]\n",
    "\n",
    "print('x_train shape:', x_train.shape)\n",
    "print('Number of images in x_train', x_train.shape[0])\n",
    "print('Number of images in x_test', x_test.shape[0])\n",
    "print(num_classes)"
   ]
  },
  {
   "cell_type": "markdown",
   "metadata": {
    "colab_type": "text",
    "id": "CSVvHQgX4E4C"
   },
   "source": [
    "# Create and Build the Model - Flatten layer Add Dense to 256,192,128 & 64"
   ]
  },
  {
   "cell_type": "code",
   "execution_count": 0,
   "metadata": {
    "colab": {},
    "colab_type": "code",
    "id": "VVhCKNe44E4E"
   },
   "outputs": [],
   "source": [
    "# Importing the required Keras modules containing model and layers\n",
    "from keras.models import Sequential\n",
    "from keras.layers import Dense, Conv2D, Dropout, Flatten, MaxPooling2D\n",
    "\n",
    "# Creating a Sequential Model and adding the layers\n",
    "model = Sequential()\n",
    "\n",
    "# 2D convolution layer with 28 nodes at the 1st layer, kernel size of 5,5 = 5x5 filter matrix\n",
    "model.add(Conv2D(30, (5, 5), input_shape=(1, 28, 28), activation='relu'))\n",
    "\n",
    "# pooling layer to reduce the spatial size of the representation to reduce the parameter counts which \n",
    "# reduces the computational complexity\n",
    "model.add(MaxPooling2D(pool_size=(2, 2)))\n",
    "model.add(Conv2D(15, (3, 3), activation='relu'))\n",
    "model.add(MaxPooling2D(pool_size=(2, 2)))\n",
    "\n",
    "#Dropout layers fight with the overfitting by disregarding some of the neurons\n",
    "model.add(Dropout(0.1))\n",
    "#Flatten layers flatten 2D arrays to 1D array for fully connected layers\n",
    "model.add(Flatten()) \n",
    "model.add(Dense(256, activation=tf.nn.relu))\n",
    "model.add(Dense(192, activation=tf.nn.relu))\n",
    "model.add(Dense(128, activation=tf.nn.relu))\n",
    "model.add(Dense(64, activation=tf.nn.relu))\n",
    "\n",
    "#final Dense layer must have 10 neurons\n",
    "model.add(Dense(num_classes,activation=tf.nn.softmax))\n",
    "\n"
   ]
  },
  {
   "cell_type": "markdown",
   "metadata": {
    "colab_type": "text",
    "id": "LJX32z4Z4E4M"
   },
   "source": [
    "# Compile and Fit the Model"
   ]
  },
  {
   "cell_type": "code",
   "execution_count": 40,
   "metadata": {
    "colab": {
     "base_uri": "https://localhost:8080/",
     "height": 397
    },
    "colab_type": "code",
    "id": "LP6j1yBc4E4P",
    "outputId": "fffda364-7e93-46fa-d0d0-58f78b0edf75"
   },
   "outputs": [
    {
     "name": "stdout",
     "output_type": "stream",
     "text": [
      "Train on 60000 samples, validate on 10000 samples\n",
      "Epoch 1/10\n",
      "60000/60000 [==============================] - 18s 293us/step - loss: 0.1700 - acc: 0.9466 - val_loss: 0.0654 - val_acc: 0.9797\n",
      "Epoch 2/10\n",
      "60000/60000 [==============================] - 17s 285us/step - loss: 0.0625 - acc: 0.9816 - val_loss: 0.0435 - val_acc: 0.9882\n",
      "Epoch 3/10\n",
      "60000/60000 [==============================] - 17s 285us/step - loss: 0.0498 - acc: 0.9857 - val_loss: 0.0395 - val_acc: 0.9885\n",
      "Epoch 4/10\n",
      "60000/60000 [==============================] - 17s 283us/step - loss: 0.0417 - acc: 0.9879 - val_loss: 0.0561 - val_acc: 0.9831\n",
      "Epoch 5/10\n",
      "60000/60000 [==============================] - 17s 284us/step - loss: 0.0337 - acc: 0.9904 - val_loss: 0.0346 - val_acc: 0.9887\n",
      "Epoch 6/10\n",
      "60000/60000 [==============================] - 17s 283us/step - loss: 0.0295 - acc: 0.9913 - val_loss: 0.0354 - val_acc: 0.9897\n",
      "Epoch 7/10\n",
      "60000/60000 [==============================] - 17s 283us/step - loss: 0.0264 - acc: 0.9921 - val_loss: 0.0293 - val_acc: 0.9921\n",
      "Epoch 8/10\n",
      "60000/60000 [==============================] - 17s 282us/step - loss: 0.0251 - acc: 0.9927 - val_loss: 0.0364 - val_acc: 0.9913\n",
      "Epoch 9/10\n",
      "60000/60000 [==============================] - 17s 286us/step - loss: 0.0220 - acc: 0.9933 - val_loss: 0.0267 - val_acc: 0.9922\n",
      "Epoch 10/10\n",
      "60000/60000 [==============================] - 17s 283us/step - loss: 0.0189 - acc: 0.9947 - val_loss: 0.0369 - val_acc: 0.9905\n"
     ]
    },
    {
     "data": {
      "text/plain": [
       "<keras.callbacks.History at 0x7fcd011323c8>"
      ]
     },
     "execution_count": 40,
     "metadata": {
      "tags": []
     },
     "output_type": "execute_result"
    }
   ],
   "source": [
    "model.compile(optimizer='adam', \n",
    "              loss='categorical_crossentropy', \n",
    "              metrics=['accuracy'])\n",
    "\n",
    "# Fit the model\n",
    "model.fit(x_train, y_train, validation_data=(x_test, y_test), \n",
    "          epochs=10)"
   ]
  },
  {
   "cell_type": "markdown",
   "metadata": {
    "colab_type": "text",
    "id": "uke-GRFk4E4W"
   },
   "source": [
    "# Evaluate the Model"
   ]
  },
  {
   "cell_type": "code",
   "execution_count": 41,
   "metadata": {
    "colab": {
     "base_uri": "https://localhost:8080/",
     "height": 52
    },
    "colab_type": "code",
    "id": "jGSrzlPV4E4Y",
    "outputId": "356a2441-faea-4230-9d05-4b0e9c0916f5"
   },
   "outputs": [
    {
     "name": "stdout",
     "output_type": "stream",
     "text": [
      "10000/10000 [==============================] - 1s 83us/step\n",
      "CNN Error: 0.95%\n"
     ]
    }
   ],
   "source": [
    "scores = model.evaluate(x_test, y_test)\n",
    "print(\"CNN Error: %.2f%%\" % (100-scores[1]*100))"
   ]
  },
  {
   "cell_type": "markdown",
   "metadata": {
    "colab_type": "text",
    "id": "HU6GgSef4E4f"
   },
   "source": [
    "# Sample Test 1 of model on data"
   ]
  },
  {
   "cell_type": "code",
   "execution_count": 31,
   "metadata": {
    "colab": {
     "base_uri": "https://localhost:8080/",
     "height": 283
    },
    "colab_type": "code",
    "id": "OJYQ279b4E4g",
    "outputId": "99afa664-57dd-4bde-cb93-1967fe0a182b"
   },
   "outputs": [
    {
     "data": {
      "text/plain": [
       "<matplotlib.image.AxesImage at 0x7fcd0195a0f0>"
      ]
     },
     "execution_count": 31,
     "metadata": {
      "tags": []
     },
     "output_type": "execute_result"
    },
    {
     "data": {
      "image/png": "[encoded data removed]",
      "text/plain": [
       "<Figure size 432x288 with 1 Axes>"
      ]
     },
     "metadata": {
      "tags": []
     },
     "output_type": "display_data"
    }
   ],
   "source": [
    "image_index = 4444\n",
    "plt.imshow(x_test[image_index].reshape(28, 28),cmap='Greys')\n"
   ]
  },
  {
   "cell_type": "code",
   "execution_count": 32,
   "metadata": {
    "colab": {
     "base_uri": "https://localhost:8080/",
     "height": 34
    },
    "colab_type": "code",
    "id": "hiRQB8FO4E4l",
    "outputId": "e1ca1c4e-7088-45e5-b9e6-ef354d8b4060"
   },
   "outputs": [
    {
     "name": "stdout",
     "output_type": "stream",
     "text": [
      "9\n"
     ]
    }
   ],
   "source": [
    "pred = model.predict(x_test[image_index].reshape(1, 1, 28, 28))\n",
    "print(pred.argmax())"
   ]
  },
  {
   "cell_type": "markdown",
   "metadata": {
    "colab_type": "text",
    "id": "idLVt4db4E4r"
   },
   "source": [
    "# Sample Test 2 of model on data"
   ]
  },
  {
   "cell_type": "code",
   "execution_count": 33,
   "metadata": {
    "colab": {
     "base_uri": "https://localhost:8080/",
     "height": 283
    },
    "colab_type": "code",
    "id": "dsH1Nmhe4E4t",
    "outputId": "6c5826c1-3298-422a-f176-8d2f6dd8cfb7"
   },
   "outputs": [
    {
     "data": {
      "text/plain": [
       "<matplotlib.image.AxesImage at 0x7fcd0192fc18>"
      ]
     },
     "execution_count": 33,
     "metadata": {
      "tags": []
     },
     "output_type": "execute_result"
    },
    {
     "data": {
      "image/png": "[encoded data removed]",
      "text/plain": [
       "<Figure size 432x288 with 1 Axes>"
      ]
     },
     "metadata": {
      "tags": []
     },
     "output_type": "display_data"
    }
   ],
   "source": [
    "image_index = 5555\n",
    "plt.imshow(x_test[image_index].reshape(28, 28),cmap='Greys')"
   ]
  },
  {
   "cell_type": "code",
   "execution_count": 34,
   "metadata": {
    "colab": {
     "base_uri": "https://localhost:8080/",
     "height": 34
    },
    "colab_type": "code",
    "id": "WPLU40KH4E4y",
    "outputId": "c47ffca0-584d-44b4-d0c1-225c934a6805"
   },
   "outputs": [
    {
     "name": "stdout",
     "output_type": "stream",
     "text": [
      "3\n"
     ]
    }
   ],
   "source": [
    "pred = model.predict(x_test[image_index].reshape(1, 1, 28, 28))\n",
    "print(pred.argmax())"
   ]
  },
  {
   "cell_type": "markdown",
   "metadata": {
    "colab_type": "text",
    "id": "KwMt7ONr4E43"
   },
   "source": [
    "The objective of this task is to implement an image classifier using a deep learning network. After the completion of the training of the model, it should be able to predict numbers from images with a high level of accuracy.\n",
    "\n",
    "The data was split into training as well as test data, where x_train and x_test contain greyscale RGB codes (from 0 to 255), while y_train and y_test data contains the labels of the images. We then normalize the input data from 0-255 to 0-1 by 1st converting the x_train and x_test to float and then dividing the x_train and x_test by 255.\n",
    "\n",
    "After which, the data was reshaped to 4D so that it can with the Keras API.\n",
    "\n",
    "We selected Convolutional Neural Network (CNN) as it is primarily used for image processing. This was done by importing the Sequential model from Keras and adding layers to the sequential model such as Convolution Layer 2D. Next we define a pooling layer that takes the max called MaxPooling2D. It is configured with a pool size of 2×2. Next we added a flatten layer flatten 2D arrays to 1D array before building the fully connected layers.Next 2 fully connected layers with 128 neurons and 64 neurons repectively and rectifier activation function. The next layer is a regularization layer using dropout called Dropout. It is configured to randomly exclude 20% of neurons in the layer in order to reduce overfitting. Finally, the output layer has 10 neurons for the 10 classes and a softmax activation function to output probability-like predictions for each class.\n",
    "\n",
    "The model was then trained using logarithmic loss and the ADAM gradient descent algorithm.\n",
    "\n",
    "We evaluate the model with the multi-layer perceptron. The CNN was fitted over 5 epochs. This gave us an accuracy of 98.26%."
   ]
  }
 ],
 "metadata": {
  "accelerator": "GPU",
  "colab": {
   "collapsed_sections": [],
   "name": "CA2_Part_B_Deep_Learning_CNN12.ipynb",
   "provenance": [],
   "version": "0.3.2"
  },
  "kernelspec": {
   "display_name": "Python 3",
   "language": "python",
   "name": "python3"
  },
  "language_info": {
   "codemirror_mode": {
    "name": "ipython",
    "version": 3
   },
   "file_extension": ".py",
   "mimetype": "text/x-python",
   "name": "python",
   "nbconvert_exporter": "python",
   "pygments_lexer": "ipython3",
   "version": "3.6.6"
  }
 },
 "nbformat": 4,
 "nbformat_minor": 1
}
