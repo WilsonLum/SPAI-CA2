{
  "nbformat": 4,
  "nbformat_minor": 0,
  "metadata": {
    "colab": {
      "name": "CA2_Part_B_Deep_Learning_CNN18.ipynb",
      "version": "0.3.2",
      "provenance": [],
      "collapsed_sections": []
    },
    "kernelspec": {
      "name": "python3",
      "display_name": "Python 3"
    },
    "accelerator": "GPU"
  },
  "cells": [
    {
      "metadata": {
        "id": "NJgtTbi32rEP",
        "colab_type": "code",
        "colab": {}
      },
      "cell_type": "code",
      "source": [
        "import keras\n",
        "from keras.datasets import mnist\n",
        "from keras.models import Sequential\n",
        "from keras.layers import Dense, Dropout, Flatten\n",
        "from keras.layers import Conv2D, MaxPooling2D\n",
        "from keras import backend as K\n",
        "import tensorflow as tf\n",
        "import numpy\n",
        "K.set_image_dim_ordering('th')\n",
        "\n",
        "seed = 88\n",
        "numpy.random.seed(seed)\n",
        "\n",
        "(x_train, y_train), (x_test, y_test) = tf.keras.datasets.mnist.load_data()"
      ],
      "execution_count": 0,
      "outputs": []
    },
    {
      "metadata": {
        "id": "ab4JGV_P3v3M",
        "colab_type": "code",
        "outputId": "f1191814-1800-4529-9365-21227c4db660",
        "colab": {
          "base_uri": "https://localhost:8080/",
          "height": 298
        }
      },
      "cell_type": "code",
      "source": [
        "import matplotlib.pyplot as plt\n",
        "%matplotlib inline\n",
        "\n",
        "#selecting a random image from the dataset\n",
        "image_index = 23456\n",
        "\n",
        "# print the label\n",
        "print(y_train[image_index])\n",
        "\n",
        "#show the image\n",
        "plt.imshow(x_train[image_index], cmap='Greys') "
      ],
      "execution_count": 15,
      "outputs": [
        {
          "output_type": "stream",
          "text": [
            "8\n"
          ],
          "name": "stdout"
        },
        {
          "output_type": "execute_result",
          "data": {
            "text/plain": [
              "<matplotlib.image.AxesImage at 0x7fca9dbf5860>"
            ]
          },
          "metadata": {
            "tags": []
          },
          "execution_count": 15
        },
        {
          "output_type": "display_data",
          "data": {
            "image/png": "[encoded data removed]",
            "text/plain": [
              "<Figure size 432x288 with 1 Axes>"
            ]
          },
          "metadata": {
            "tags": []
          }
        }
      ]
    },
    {
      "metadata": {
        "id": "3KZ-LXCx3v7O",
        "colab_type": "code",
        "outputId": "9e256a8f-f9d7-4824-ddc4-2b0d64f6c5f7",
        "colab": {
          "base_uri": "https://localhost:8080/",
          "height": 34
        }
      },
      "cell_type": "code",
      "source": [
        "#show the shape of the data set\n",
        "x_train.shape"
      ],
      "execution_count": 16,
      "outputs": [
        {
          "output_type": "execute_result",
          "data": {
            "text/plain": [
              "(60000, 28, 28)"
            ]
          },
          "metadata": {
            "tags": []
          },
          "execution_count": 16
        }
      ]
    },
    {
      "metadata": {
        "id": "6LNX6MaS3v_X",
        "colab_type": "code",
        "outputId": "d16eae60-a4e5-439c-ee44-2cfdd20093a1",
        "colab": {
          "base_uri": "https://localhost:8080/",
          "height": 67
        }
      },
      "cell_type": "code",
      "source": [
        "from keras.utils import np_utils\n",
        "\n",
        "\n",
        "# flatten 28*28 images to a 784 vector for each image\n",
        "# reshaping the data so that it can work with the Keras API\n",
        "x_train = x_train.reshape(x_train.shape[0], 1, 28, 28).astype('float32')\n",
        "x_test = x_test.reshape(x_test.shape[0], 1, 28, 28).astype('float32')\n",
        "\n",
        "# normalize inputs from 0-255 to 0-1\n",
        "x_train /= 255\n",
        "x_test /= 255\n",
        "\n",
        "y_train = np_utils.to_categorical(y_train)\n",
        "y_test = np_utils.to_categorical(y_test)\n",
        "num_classes = y_test.shape[1]\n",
        "\n",
        "print('x_train shape:', x_train.shape)\n",
        "print('Number of images in x_train', x_train.shape[0])\n",
        "print('Number of images in x_test', x_test.shape[0])"
      ],
      "execution_count": 17,
      "outputs": [
        {
          "output_type": "stream",
          "text": [
            "x_train shape: (60000, 1, 28, 28)\n",
            "Number of images in x_train 60000\n",
            "Number of images in x_test 10000\n"
          ],
          "name": "stdout"
        }
      ]
    },
    {
      "metadata": {
        "id": "YqhO_e7c78MU",
        "colab_type": "code",
        "outputId": "e3ea6c28-e710-434c-9bc6-10ea1a1ac110",
        "colab": {
          "base_uri": "https://localhost:8080/",
          "height": 806
        }
      },
      "cell_type": "code",
      "source": [
        "# Importing the required Keras modules containing model and layers\n",
        "from keras.models import Sequential\n",
        "from keras.layers import Dense, Conv2D, Dropout, Flatten, MaxPooling2D\n",
        "from keras.layers.normalization import BatchNormalization\n",
        "from keras.callbacks import LearningRateScheduler\n",
        "\n",
        "# Creating a Sequential Model and adding the layers\n",
        "model = Sequential()\n",
        "\n",
        "# 2D convolution layer with 28 nodes at the 1st layer, kernel size of 5,5 = 5x5 filter matrix\n",
        "model.add(Conv2D(56, (5, 5), input_shape=(1, 28, 28), activation='relu'))\n",
        "\n",
        "# pooling layer to reduce the spatial size of the representation to reduce the parameter counts which \n",
        "# reduces the computational complexity\n",
        "model.add(MaxPooling2D(pool_size=(2, 2)))\n",
        "model.add(Conv2D(15, (3, 3), activation='relu'))\n",
        "model.add(MaxPooling2D(pool_size=(2, 2)))\n",
        "model.add(BatchNormalization())\n",
        "\n",
        "#Dropout layers fight with the overfitting by disregarding some of the neurons\n",
        "model.add(Dropout(0.2))\n",
        "#Flatten layers flatten 2D arrays to 1D array for fully connected layers\n",
        "model.add(Flatten()) \n",
        "model.add(Dense(256, activation=tf.nn.relu))\n",
        "model.add(Dropout(0.2))\n",
        "model.add(BatchNormalization())\n",
        "model.add(Dense(192, activation=tf.nn.relu))\n",
        "model.add(Dropout(0.2))\n",
        "model.add(BatchNormalization())\n",
        "model.add(Dense(128, activation=tf.nn.relu))\n",
        "model.add(Dropout(0.2))\n",
        "model.add(BatchNormalization())\n",
        "model.add(Dense(64, activation=tf.nn.relu))\n",
        "model.add(Dropout(0.2))\n",
        "model.add(BatchNormalization())\n",
        "\n",
        "#final Dense layer must have 10 neurons\n",
        "model.add(Dense(num_classes,activation=tf.nn.softmax))\n",
        "model.summary()"
      ],
      "execution_count": 18,
      "outputs": [
        {
          "output_type": "stream",
          "text": [
            "_________________________________________________________________\n",
            "Layer (type)                 Output Shape              Param #   \n",
            "=================================================================\n",
            "conv2d_3 (Conv2D)            (None, 56, 24, 24)        1456      \n",
            "_________________________________________________________________\n",
            "max_pooling2d_3 (MaxPooling2 (None, 56, 12, 12)        0         \n",
            "_________________________________________________________________\n",
            "conv2d_4 (Conv2D)            (None, 15, 10, 10)        7575      \n",
            "_________________________________________________________________\n",
            "max_pooling2d_4 (MaxPooling2 (None, 15, 5, 5)          0         \n",
            "_________________________________________________________________\n",
            "batch_normalization_6 (Batch (None, 15, 5, 5)          20        \n",
            "_________________________________________________________________\n",
            "dropout_6 (Dropout)          (None, 15, 5, 5)          0         \n",
            "_________________________________________________________________\n",
            "flatten_2 (Flatten)          (None, 375)               0         \n",
            "_________________________________________________________________\n",
            "dense_6 (Dense)              (None, 256)               96256     \n",
            "_________________________________________________________________\n",
            "dropout_7 (Dropout)          (None, 256)               0         \n",
            "_________________________________________________________________\n",
            "batch_normalization_7 (Batch (None, 256)               1024      \n",
            "_________________________________________________________________\n",
            "dense_7 (Dense)              (None, 192)               49344     \n",
            "_________________________________________________________________\n",
            "dropout_8 (Dropout)          (None, 192)               0         \n",
            "_________________________________________________________________\n",
            "batch_normalization_8 (Batch (None, 192)               768       \n",
            "_________________________________________________________________\n",
            "dense_8 (Dense)              (None, 128)               24704     \n",
            "_________________________________________________________________\n",
            "dropout_9 (Dropout)          (None, 128)               0         \n",
            "_________________________________________________________________\n",
            "batch_normalization_9 (Batch (None, 128)               512       \n",
            "_________________________________________________________________\n",
            "dense_9 (Dense)              (None, 64)                8256      \n",
            "_________________________________________________________________\n",
            "dropout_10 (Dropout)         (None, 64)                0         \n",
            "_________________________________________________________________\n",
            "batch_normalization_10 (Batc (None, 64)                256       \n",
            "_________________________________________________________________\n",
            "dense_10 (Dense)             (None, 10)                650       \n",
            "=================================================================\n",
            "Total params: 190,821\n",
            "Trainable params: 189,531\n",
            "Non-trainable params: 1,290\n",
            "_________________________________________________________________\n"
          ],
          "name": "stdout"
        }
      ]
    },
    {
      "metadata": {
        "id": "cv08CV9ZPq24",
        "colab_type": "code",
        "colab": {}
      },
      "cell_type": "code",
      "source": [
        "def plot_fig(i, history):\n",
        "    fig = plt.figure()\n",
        "    plt.plot(range(1,epochs+1),history.history['val_acc'],label='validation')\n",
        "    plt.plot(range(1,epochs+1),history.history['acc'],label='training')\n",
        "    plt.legend(loc=0)\n",
        "    plt.xlabel('epochs')\n",
        "    plt.ylabel('accuracy')\n",
        "    plt.xlim([1,epochs])\n",
        "    plt.grid(True)\n",
        "    plt.title(\"Model Accuracy\")\n",
        "    plt.show()\n",
        "    #fig.savefig('img/'+str(i)+'-accuracy.jpg')\n",
        "    #plt.close(fig)"
      ],
      "execution_count": 0,
      "outputs": []
    },
    {
      "metadata": {
        "id": "eLHwTuwM_kMj",
        "colab_type": "code",
        "colab": {}
      },
      "cell_type": "code",
      "source": [
        "epochs = 15"
      ],
      "execution_count": 0,
      "outputs": []
    },
    {
      "metadata": {
        "id": "5EGMZlPX3wFi",
        "colab_type": "code",
        "outputId": "12a4c6d6-ce70-4c60-8215-2478052c6e2b",
        "colab": {
          "base_uri": "https://localhost:8080/",
          "height": 538
        }
      },
      "cell_type": "code",
      "source": [
        "# Adam is an optimization algorithm that can used instead of the classical stochastic gradient descent procedure \n",
        "# to update network weights iterative based in training data.\n",
        "adam = keras.optimizers.Adam(lr=0.00125, beta_1=0.9, beta_2=0.999, epsilon=1e-08, decay=0.0)\n",
        "\n",
        "model.compile(optimizer = adam, \n",
        "              loss='categorical_crossentropy', \n",
        "              metrics=['accuracy'])\n",
        "\n",
        "# Fit the model\n",
        "hist = model.fit(x_train, y_train, batch_size=100, epochs=epochs,validation_data=(x_test, y_test), verbose=1)"
      ],
      "execution_count": 43,
      "outputs": [
        {
          "output_type": "stream",
          "text": [
            "Train on 60000 samples, validate on 10000 samples\n",
            "Epoch 1/15\n",
            "60000/60000 [==============================] - 15s 248us/step - loss: 0.0071 - acc: 0.9978 - val_loss: 0.0217 - val_acc: 0.9955\n",
            "Epoch 2/15\n",
            "60000/60000 [==============================] - 12s 205us/step - loss: 0.0072 - acc: 0.9979 - val_loss: 0.0227 - val_acc: 0.9952\n",
            "Epoch 3/15\n",
            "60000/60000 [==============================] - 12s 204us/step - loss: 0.0061 - acc: 0.9982 - val_loss: 0.0258 - val_acc: 0.9950\n",
            "Epoch 4/15\n",
            "60000/60000 [==============================] - 12s 204us/step - loss: 0.0078 - acc: 0.9979 - val_loss: 0.0246 - val_acc: 0.9946\n",
            "Epoch 5/15\n",
            "60000/60000 [==============================] - 12s 204us/step - loss: 0.0061 - acc: 0.9983 - val_loss: 0.0258 - val_acc: 0.9945\n",
            "Epoch 6/15\n",
            "60000/60000 [==============================] - 12s 203us/step - loss: 0.0065 - acc: 0.9981 - val_loss: 0.0243 - val_acc: 0.9947\n",
            "Epoch 7/15\n",
            "60000/60000 [==============================] - 12s 203us/step - loss: 0.0053 - acc: 0.9985 - val_loss: 0.0236 - val_acc: 0.9948\n",
            "Epoch 8/15\n",
            "60000/60000 [==============================] - 12s 205us/step - loss: 0.0063 - acc: 0.9979 - val_loss: 0.0256 - val_acc: 0.9948\n",
            "Epoch 9/15\n",
            "60000/60000 [==============================] - 16s 265us/step - loss: 0.0054 - acc: 0.9983 - val_loss: 0.0244 - val_acc: 0.9946\n",
            "Epoch 10/15\n",
            "60000/60000 [==============================] - 20s 337us/step - loss: 0.0054 - acc: 0.9987 - val_loss: 0.0253 - val_acc: 0.9949\n",
            "Epoch 11/15\n",
            "60000/60000 [==============================] - 20s 336us/step - loss: 0.0063 - acc: 0.9980 - val_loss: 0.0233 - val_acc: 0.9955\n",
            "Epoch 12/15\n",
            "60000/60000 [==============================] - 21s 343us/step - loss: 0.0052 - acc: 0.9985 - val_loss: 0.0241 - val_acc: 0.9947\n",
            "Epoch 13/15\n",
            "60000/60000 [==============================] - 20s 339us/step - loss: 0.0064 - acc: 0.9981 - val_loss: 0.0232 - val_acc: 0.9952\n",
            "Epoch 14/15\n",
            "60000/60000 [==============================] - 20s 340us/step - loss: 0.0059 - acc: 0.9983 - val_loss: 0.0219 - val_acc: 0.9953\n",
            "Epoch 15/15\n",
            "60000/60000 [==============================] - 20s 339us/step - loss: 0.0046 - acc: 0.9987 - val_loss: 0.0217 - val_acc: 0.9951\n"
          ],
          "name": "stdout"
        }
      ]
    },
    {
      "metadata": {
        "id": "9QWsnuUX3wIg",
        "colab_type": "code",
        "colab": {
          "base_uri": "https://localhost:8080/",
          "height": 50
        },
        "outputId": "0f11d22d-6584-4f47-ab7e-bd0361677e23"
      },
      "cell_type": "code",
      "source": [
        "scores = model.evaluate(x_test, y_test)\n",
        "print(\"CNN Error: %.2f%%\" % (100-scores[1]*100))"
      ],
      "execution_count": 44,
      "outputs": [
        {
          "output_type": "stream",
          "text": [
            "10000/10000 [==============================] - 2s 233us/step\n",
            "CNN Error: 0.49%\n"
          ],
          "name": "stdout"
        }
      ]
    },
    {
      "metadata": {
        "id": "gb_jpMCLQKM3",
        "colab_type": "code",
        "colab": {
          "base_uri": "https://localhost:8080/",
          "height": 294
        },
        "outputId": "06a65309-0100-4f97-dc90-cfd88e135ea3"
      },
      "cell_type": "code",
      "source": [
        "# plot model accuracy\n",
        "plot_fig(1, hist)"
      ],
      "execution_count": 45,
      "outputs": [
        {
          "output_type": "display_data",
          "data": {
            "image/png": "[encoded data removed]",
            "text/plain": [
              "<Figure size 432x288 with 1 Axes>"
            ]
          },
          "metadata": {
            "tags": []
          }
        }
      ]
    },
    {
      "metadata": {
        "id": "R1t_6b7S4Co3",
        "colab_type": "code",
        "colab": {
          "base_uri": "https://localhost:8080/",
          "height": 282
        },
        "outputId": "0b232d3a-9b4f-4a04-be85-3192661d4508"
      },
      "cell_type": "code",
      "source": [
        "image_index = 5678\n",
        "plt.imshow(x_test[image_index].reshape(28, 28),cmap='Greys')\n"
      ],
      "execution_count": 46,
      "outputs": [
        {
          "output_type": "execute_result",
          "data": {
            "text/plain": [
              "<matplotlib.image.AxesImage at 0x7fca983f3978>"
            ]
          },
          "metadata": {
            "tags": []
          },
          "execution_count": 46
        },
        {
          "output_type": "display_data",
          "data": {
            "image/png": "[encoded data removed]",
            "text/plain": [
              "<Figure size 432x288 with 1 Axes>"
            ]
          },
          "metadata": {
            "tags": []
          }
        }
      ]
    },
    {
      "metadata": {
        "id": "15XS8Ap366Mb",
        "colab_type": "code",
        "colab": {
          "base_uri": "https://localhost:8080/",
          "height": 34
        },
        "outputId": "29c3591b-11de-4ba7-fe80-12e212757d60"
      },
      "cell_type": "code",
      "source": [
        "pred = model.predict(x_test[5678].reshape(1, 1, 28, 28))\n",
        "print(pred.argmax())"
      ],
      "execution_count": 47,
      "outputs": [
        {
          "output_type": "stream",
          "text": [
            "8\n"
          ],
          "name": "stdout"
        }
      ]
    },
    {
      "metadata": {
        "id": "aRZuKbry4Ct9",
        "colab_type": "code",
        "colab": {
          "base_uri": "https://localhost:8080/",
          "height": 282
        },
        "outputId": "40273dd3-c30f-40a3-ac61-216688c1af18"
      },
      "cell_type": "code",
      "source": [
        "image_index = 2345\n",
        "plt.imshow(x_test[image_index].reshape(28, 28),cmap='Greys')"
      ],
      "execution_count": 48,
      "outputs": [
        {
          "output_type": "execute_result",
          "data": {
            "text/plain": [
              "<matplotlib.image.AxesImage at 0x7fca9834f2b0>"
            ]
          },
          "metadata": {
            "tags": []
          },
          "execution_count": 48
        },
        {
          "output_type": "display_data",
          "data": {
            "image/png": "[encoded data removed]",
            "text/plain": [
              "<Figure size 432x288 with 1 Axes>"
            ]
          },
          "metadata": {
            "tags": []
          }
        }
      ]
    },
    {
      "metadata": {
        "id": "bAXUKUjU4Cwr",
        "colab_type": "code",
        "colab": {
          "base_uri": "https://localhost:8080/",
          "height": 50
        },
        "outputId": "34d52fa1-6636-4bef-b124-c0f872651687"
      },
      "cell_type": "code",
      "source": [
        "pred = model.predict(x_test[image_index].reshape(1, 1, 28, 28))\n",
        "print(pred.argmax())\n",
        "print(image_index)"
      ],
      "execution_count": 49,
      "outputs": [
        {
          "output_type": "stream",
          "text": [
            "9\n",
            "2345\n"
          ],
          "name": "stdout"
        }
      ]
    },
    {
      "metadata": {
        "id": "oMaJhxKoPVkP",
        "colab_type": "code",
        "colab": {
          "base_uri": "https://localhost:8080/",
          "height": 294
        },
        "outputId": "16fe7f30-0a9f-441a-8cc4-414b03e51554"
      },
      "cell_type": "code",
      "source": [
        "import matplotlib.pyplot as plt\n",
        "\n",
        "plt.plot(hist.history['acc'])\n",
        "plt.plot(hist.history['val_acc'])\n",
        "\n",
        "# Plot legend and use the best location automatically: loc = 0\n",
        "plt.legend([\"Train acc\", \"Validation acc\"], loc = 'lower right')\n",
        "plt.title(\"Training Validation acc per Epoch\")\n",
        "plt.xlabel(\"Epoch\")\n",
        "plt.ylabel(\"acc\")\n",
        "plt.show()"
      ],
      "execution_count": 50,
      "outputs": [
        {
          "output_type": "display_data",
          "data": {
            "image/png": "[encoded data removed]",
            "text/plain": [
              "<Figure size 432x288 with 1 Axes>"
            ]
          },
          "metadata": {
            "tags": []
          }
        }
      ]
    },
    {
      "metadata": {
        "id": "-NRg7rZePVps",
        "colab_type": "code",
        "colab": {
          "base_uri": "https://localhost:8080/",
          "height": 294
        },
        "outputId": "dcb254db-608a-4c9d-a308-3454b0f58935"
      },
      "cell_type": "code",
      "source": [
        "plt.plot(hist.history['loss'])\n",
        "plt.plot(hist.history['val_loss'])\n",
        "\n",
        "# Plot legend and use the best location automatically: loc = 0\n",
        "plt.legend([\"Train acc\", \"Validation acc\"], loc = 'upper right')\n",
        "plt.title(\"Training Validation acc per Epoch\")\n",
        "plt.xlabel(\"Epoch\")\n",
        "plt.ylabel(\"acc\")\n",
        "plt.show()"
      ],
      "execution_count": 51,
      "outputs": [
        {
          "output_type": "display_data",
          "data": {
            "image/png": "[encoded data removed]",
            "text/plain": [
              "<Figure size 432x288 with 1 Axes>"
            ]
          },
          "metadata": {
            "tags": []
          }
        }
      ]
    }
  ]
}