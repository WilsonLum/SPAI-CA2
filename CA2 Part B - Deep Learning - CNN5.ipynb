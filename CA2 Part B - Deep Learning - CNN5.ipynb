{
 "cells": [
  {
   "cell_type": "markdown",
   "metadata": {},
   "source": [
    "# PART B: Deep LEARNING \n",
    "##    a) Implement an image classifier using a deep learning network. \n",
    "##    b) use the MNIST dataset\n",
    "\n",
    "## Lum Kok Keong \t(T7320307)\n",
    "## Thia Yu-Kai \t\t(T7320305)\n",
    "## Yeo Xin Mei \t\t(T7320311)\n",
    "\n",
    "## NSDAI2 Class 2 (Thursday)\n"
   ]
  },
  {
   "cell_type": "markdown",
   "metadata": {
    "colab_type": "text",
    "id": "3HNpmKsB4E2w"
   },
   "source": [
    "# Load the Data"
   ]
  },
  {
   "cell_type": "code",
   "execution_count": 5,
   "metadata": {
    "colab": {
     "base_uri": "https://localhost:8080/",
     "height": 34
    },
    "colab_type": "code",
    "executionInfo": {
     "elapsed": 1962,
     "status": "ok",
     "timestamp": 1548333651245,
     "user": {
      "displayName": "Yu-Kai Thia",
      "photoUrl": "",
      "userId": "00176141171406322846"
     },
     "user_tz": -480
    },
    "id": "v9EtsIbD4E22",
    "outputId": "21f2b7f0-e59e-4051-9c69-8ef1ea655e79"
   },
   "outputs": [],
   "source": [
    "import keras\n",
    "from keras.datasets import mnist\n",
    "from keras.models import Sequential\n",
    "from keras.layers import Dense, Dropout, Flatten\n",
    "from keras.layers import Conv2D, MaxPooling2D\n",
    "from keras import backend as K\n",
    "import tensorflow as tf\n",
    "\n",
    "(x_train, y_train), (x_test, y_test) = tf.keras.datasets.mnist.load_data()"
   ]
  },
  {
   "cell_type": "code",
   "execution_count": 6,
   "metadata": {
    "colab": {
     "base_uri": "https://localhost:8080/",
     "height": 298
    },
    "colab_type": "code",
    "executionInfo": {
     "elapsed": 772,
     "status": "ok",
     "timestamp": 1548333652983,
     "user": {
      "displayName": "Yu-Kai Thia",
      "photoUrl": "",
      "userId": "00176141171406322846"
     },
     "user_tz": -480
    },
    "id": "Sd0Xisv54E3J",
    "outputId": "3128af87-1850-4b1f-a22e-dec8601e9384"
   },
   "outputs": [
    {
     "name": "stdout",
     "output_type": "stream",
     "text": [
      "8\n"
     ]
    },
    {
     "data": {
      "text/plain": [
       "<matplotlib.image.AxesImage at 0x20357f61898>"
      ]
     },
     "execution_count": 6,
     "metadata": {},
     "output_type": "execute_result"
    },
    {
     "data": {
      "image/png": "[encoded data removed]",
      "text/plain": [
       "<Figure size 432x288 with 1 Axes>"
      ]
     },
     "metadata": {
      "needs_background": "light"
     },
     "output_type": "display_data"
    }
   ],
   "source": [
    "import matplotlib.pyplot as plt\n",
    "%matplotlib inline\n",
    "\n",
    "#selecting a random image from the dataset\n",
    "image_index = 7777 \n",
    "\n",
    "# print the label\n",
    "print(y_train[image_index])\n",
    "\n",
    "#show the image\n",
    "plt.imshow(x_train[image_index], cmap='Greys') "
   ]
  },
  {
   "cell_type": "code",
   "execution_count": 7,
   "metadata": {
    "colab": {
     "base_uri": "https://localhost:8080/",
     "height": 34
    },
    "colab_type": "code",
    "executionInfo": {
     "elapsed": 947,
     "status": "ok",
     "timestamp": 1548333659541,
     "user": {
      "displayName": "Yu-Kai Thia",
      "photoUrl": "",
      "userId": "00176141171406322846"
     },
     "user_tz": -480
    },
    "id": "XKIy1rmv4E3b",
    "outputId": "f5e9b5d5-efd2-402d-9523-7de367b536ba"
   },
   "outputs": [
    {
     "data": {
      "text/plain": [
       "(60000, 28, 28)"
      ]
     },
     "execution_count": 7,
     "metadata": {},
     "output_type": "execute_result"
    }
   ],
   "source": [
    "#show the shape of the data set\n",
    "x_train.shape"
   ]
  },
  {
   "cell_type": "markdown",
   "metadata": {
    "colab_type": "text",
    "id": "tk4WfUnb4E3v"
   },
   "source": [
    "# Normalize the data"
   ]
  },
  {
   "cell_type": "code",
   "execution_count": 8,
   "metadata": {
    "colab": {
     "base_uri": "https://localhost:8080/",
     "height": 67
    },
    "colab_type": "code",
    "executionInfo": {
     "elapsed": 770,
     "status": "ok",
     "timestamp": 1548333661974,
     "user": {
      "displayName": "Yu-Kai Thia",
      "photoUrl": "",
      "userId": "00176141171406322846"
     },
     "user_tz": -480
    },
    "id": "JMZIBm7z4E30",
    "outputId": "2c511cb1-e9f1-4c72-ffda-4c44a94c88dc"
   },
   "outputs": [
    {
     "name": "stdout",
     "output_type": "stream",
     "text": [
      "x_train shape: (60000, 28, 28, 1)\n",
      "Number of images in x_train 60000\n",
      "Number of images in x_test 10000\n"
     ]
    }
   ],
   "source": [
    "# flatten 28*28 images to a 784 vector for each image\n",
    "# reshaping the data so that it can work with the Keras API\n",
    "x_train = x_train.reshape(x_train.shape[0], 28, 28, 1)\n",
    "x_test = x_test.reshape(x_test.shape[0], 28, 28, 1)\n",
    "input_shape = (28, 28, 1)\n",
    "\n",
    "# Making sure that the values are float so that we can get decimal points after division\n",
    "#x_train and x_test parts contain greyscale RGB codes (from 0 to 255) \n",
    "x_train = x_train.astype('float32')\n",
    "x_test = x_test.astype('float32')\n",
    "\n",
    "# normalize inputs from 0-255 to 0-1\n",
    "x_train /= 255\n",
    "x_test /= 255\n",
    "\n",
    "print('x_train shape:', x_train.shape)\n",
    "print('Number of images in x_train', x_train.shape[0])\n",
    "print('Number of images in x_test', x_test.shape[0])"
   ]
  },
  {
   "cell_type": "markdown",
   "metadata": {
    "colab_type": "text",
    "id": "CSVvHQgX4E4C"
   },
   "source": [
    "# Create and Build the Model - Flatten layer Add Dense to 256,192,128 & 64"
   ]
  },
  {
   "cell_type": "code",
   "execution_count": 9,
   "metadata": {
    "colab": {},
    "colab_type": "code",
    "id": "VVhCKNe44E4E"
   },
   "outputs": [],
   "source": [
    "# Importing the required Keras modules containing model and layers\n",
    "from keras.models import Sequential\n",
    "from keras.layers import Dense, Conv2D, Dropout, Flatten, MaxPooling2D\n",
    "\n",
    "# Creating a Sequential Model and adding the layers\n",
    "model = Sequential()\n",
    "\n",
    "# 2D convolution layer with 28 nodes at the 1st layer, kernel size of 5,5 = 5x5 filter matrix\n",
    "model.add(Conv2D(28, (5,5), input_shape=input_shape))\n",
    "\n",
    "# pooling layer to reduce the spatial size of the representation to reduce the parameter counts which \n",
    "# reduces the computational complexity\n",
    "model.add(MaxPooling2D(pool_size=(2, 2)))\n",
    "model.add(Conv2D(15, (3, 3), activation='relu'))\n",
    "model.add(MaxPooling2D(pool_size=(2, 2)))\n",
    "\n",
    "#Flatten layers flatten 2D arrays to 1D array for fully connected layers\n",
    "model.add(Flatten()) \n",
    "model.add(Dense(256, activation=tf.nn.relu))\n",
    "model.add(Dense(192, activation=tf.nn.relu))\n",
    "model.add(Dense(128, activation=tf.nn.relu))\n",
    "model.add(Dense(64, activation=tf.nn.relu))\n",
    "\n",
    "#Dropout layers fight with the overfitting by disregarding some of the neurons\n",
    "model.add(Dropout(0.2))\n",
    "\n",
    "#final Dense layer must have 10 neurons\n",
    "model.add(Dense(10,activation=tf.nn.softmax))"
   ]
  },
  {
   "cell_type": "markdown",
   "metadata": {
    "colab_type": "text",
    "id": "LJX32z4Z4E4M"
   },
   "source": [
    "# Compile and Fit the Model"
   ]
  },
  {
   "cell_type": "code",
   "execution_count": 10,
   "metadata": {
    "colab": {
     "base_uri": "https://localhost:8080/",
     "height": 370
    },
    "colab_type": "code",
    "executionInfo": {
     "elapsed": 123750,
     "status": "ok",
     "timestamp": 1548334389527,
     "user": {
      "displayName": "Yu-Kai Thia",
      "photoUrl": "",
      "userId": "00176141171406322846"
     },
     "user_tz": -480
    },
    "id": "LP6j1yBc4E4P",
    "outputId": "80905eb9-65f1-4f12-bc61-cb388ea021a9"
   },
   "outputs": [
    {
     "name": "stdout",
     "output_type": "stream",
     "text": [
      "Epoch 1/10\n",
      "60000/60000 [==============================] - 79s 1ms/step - loss: 0.1909 - acc: 0.9423\n",
      "Epoch 2/10\n",
      "60000/60000 [==============================] - 89s 1ms/step - loss: 0.0675 - acc: 0.9814\n",
      "Epoch 3/10\n",
      "60000/60000 [==============================] - 78s 1ms/step - loss: 0.0494 - acc: 0.9866\n",
      "Epoch 4/10\n",
      "60000/60000 [==============================] - 84s 1ms/step - loss: 0.0434 - acc: 0.9883\n",
      "Epoch 5/10\n",
      "60000/60000 [==============================] - 85s 1ms/step - loss: 0.0356 - acc: 0.9901\n",
      "Epoch 6/10\n",
      "15168/60000 [======>.......................] - ETA: 1:23 - loss: 0.0282 - acc: 0.9923"
     ]
    },
    {
     "name": "stderr",
     "output_type": "stream",
     "text": [
      "C:\\ProgramData\\Anaconda3\\lib\\site-packages\\keras\\callbacks.py:122: UserWarning: Method on_batch_end() is slow compared to the batch update (0.121176). Check your callbacks.\n",
      "  % delta_t_median)\n"
     ]
    },
    {
     "name": "stdout",
     "output_type": "stream",
     "text": [
      "15264/60000 [======>.......................] - ETA: 1:23 - loss: 0.0281 - acc: 0.9923"
     ]
    },
    {
     "name": "stderr",
     "output_type": "stream",
     "text": [
      "C:\\ProgramData\\Anaconda3\\lib\\site-packages\\keras\\callbacks.py:122: UserWarning: Method on_batch_end() is slow compared to the batch update (0.107713). Check your callbacks.\n",
      "  % delta_t_median)\n"
     ]
    },
    {
     "name": "stdout",
     "output_type": "stream",
     "text": [
      "15776/60000 [======>.......................] - ETA: 1:40 - loss: 0.0282 - acc: 0.9923"
     ]
    },
    {
     "name": "stderr",
     "output_type": "stream",
     "text": [
      "C:\\ProgramData\\Anaconda3\\lib\\site-packages\\keras\\callbacks.py:122: UserWarning: Method on_batch_end() is slow compared to the batch update (0.111202). Check your callbacks.\n",
      "  % delta_t_median)\n"
     ]
    },
    {
     "name": "stdout",
     "output_type": "stream",
     "text": [
      "16448/60000 [=======>......................] - ETA: 1:52 - loss: 0.0280 - acc: 0.9923"
     ]
    },
    {
     "name": "stderr",
     "output_type": "stream",
     "text": [
      "C:\\ProgramData\\Anaconda3\\lib\\site-packages\\keras\\callbacks.py:122: UserWarning: Method on_batch_end() is slow compared to the batch update (0.121674). Check your callbacks.\n",
      "  % delta_t_median)\n"
     ]
    },
    {
     "name": "stdout",
     "output_type": "stream",
     "text": [
      "17248/60000 [=======>......................] - ETA: 2:06 - loss: 0.0277 - acc: 0.9925"
     ]
    },
    {
     "name": "stderr",
     "output_type": "stream",
     "text": [
      "C:\\ProgramData\\Anaconda3\\lib\\site-packages\\keras\\callbacks.py:122: UserWarning: Method on_batch_end() is slow compared to the batch update (0.100230). Check your callbacks.\n",
      "  % delta_t_median)\n"
     ]
    },
    {
     "name": "stdout",
     "output_type": "stream",
     "text": [
      "17408/60000 [=======>......................] - ETA: 2:09 - loss: 0.0277 - acc: 0.9925"
     ]
    },
    {
     "name": "stderr",
     "output_type": "stream",
     "text": [
      "C:\\ProgramData\\Anaconda3\\lib\\site-packages\\keras\\callbacks.py:122: UserWarning: Method on_batch_end() is slow compared to the batch update (0.114692). Check your callbacks.\n",
      "  % delta_t_median)\n"
     ]
    },
    {
     "name": "stdout",
     "output_type": "stream",
     "text": [
      "17504/60000 [=======>......................] - ETA: 2:11 - loss: 0.0276 - acc: 0.9925"
     ]
    },
    {
     "name": "stderr",
     "output_type": "stream",
     "text": [
      "C:\\ProgramData\\Anaconda3\\lib\\site-packages\\keras\\callbacks.py:122: UserWarning: Method on_batch_end() is slow compared to the batch update (0.119181). Check your callbacks.\n",
      "  % delta_t_median)\n"
     ]
    },
    {
     "name": "stdout",
     "output_type": "stream",
     "text": [
      "17664/60000 [=======>......................] - ETA: 2:11 - loss: 0.0276 - acc: 0.9925"
     ]
    },
    {
     "name": "stderr",
     "output_type": "stream",
     "text": [
      "C:\\ProgramData\\Anaconda3\\lib\\site-packages\\keras\\callbacks.py:122: UserWarning: Method on_batch_end() is slow compared to the batch update (0.125165). Check your callbacks.\n",
      "  % delta_t_median)\n",
      "C:\\ProgramData\\Anaconda3\\lib\\site-packages\\keras\\callbacks.py:122: UserWarning: Method on_batch_end() is slow compared to the batch update (0.129653). Check your callbacks.\n",
      "  % delta_t_median)\n"
     ]
    },
    {
     "name": "stdout",
     "output_type": "stream",
     "text": [
      "17888/60000 [=======>......................] - ETA: 2:13 - loss: 0.0281 - acc: 0.9923"
     ]
    },
    {
     "name": "stderr",
     "output_type": "stream",
     "text": [
      "C:\\ProgramData\\Anaconda3\\lib\\site-packages\\keras\\callbacks.py:122: UserWarning: Method on_batch_end() is slow compared to the batch update (0.115192). Check your callbacks.\n",
      "  % delta_t_median)\n"
     ]
    },
    {
     "name": "stdout",
     "output_type": "stream",
     "text": [
      "18016/60000 [========>.....................] - ETA: 2:15 - loss: 0.0281 - acc: 0.9923"
     ]
    },
    {
     "name": "stderr",
     "output_type": "stream",
     "text": [
      "C:\\ProgramData\\Anaconda3\\lib\\site-packages\\keras\\callbacks.py:122: UserWarning: Method on_batch_end() is slow compared to the batch update (0.117187). Check your callbacks.\n",
      "  % delta_t_median)\n"
     ]
    },
    {
     "name": "stdout",
     "output_type": "stream",
     "text": [
      "\b\b\b\b\b\b\b\b\b\b\b\b\b\b\b\b\b\b\b\b\b\b\b\b\b\b\b\b\b\b\b\b\b\b\b\b\b\b\b\b\b\b\b\b\b\b\b\b\b\b\b\b\b\b\b\b\b\b\b\b\b\b\b\b\b\b\b\b\b\b\b\b\b\b\b\b\b\b\b\b\b\b\b\b\b\r",
      "18048/60000 [========>.....................] - ETA: 2:15 - loss: 0.0280 - acc: 0.9923"
     ]
    },
    {
     "name": "stderr",
     "output_type": "stream",
     "text": [
      "C:\\ProgramData\\Anaconda3\\lib\\site-packages\\keras\\callbacks.py:122: UserWarning: Method on_batch_end() is slow compared to the batch update (0.120179). Check your callbacks.\n",
      "  % delta_t_median)\n"
     ]
    },
    {
     "name": "stdout",
     "output_type": "stream",
     "text": [
      "18144/60000 [========>.....................] - ETA: 2:20 - loss: 0.0282 - acc: 0.9922"
     ]
    },
    {
     "name": "stderr",
     "output_type": "stream",
     "text": [
      "C:\\ProgramData\\Anaconda3\\lib\\site-packages\\keras\\callbacks.py:122: UserWarning: Method on_batch_end() is slow compared to the batch update (0.130152). Check your callbacks.\n",
      "  % delta_t_median)\n"
     ]
    },
    {
     "name": "stdout",
     "output_type": "stream",
     "text": [
      "19072/60000 [========>.....................] - ETA: 2:32 - loss: 0.0281 - acc: 0.9920"
     ]
    },
    {
     "name": "stderr",
     "output_type": "stream",
     "text": [
      "C:\\ProgramData\\Anaconda3\\lib\\site-packages\\keras\\callbacks.py:122: UserWarning: Method on_batch_end() is slow compared to the batch update (0.121676). Check your callbacks.\n",
      "  % delta_t_median)\n",
      "C:\\ProgramData\\Anaconda3\\lib\\site-packages\\keras\\callbacks.py:122: UserWarning: Method on_batch_end() is slow compared to the batch update (0.103722). Check your callbacks.\n",
      "  % delta_t_median)\n"
     ]
    },
    {
     "name": "stdout",
     "output_type": "stream",
     "text": [
      "19168/60000 [========>.....................] - ETA: 2:35 - loss: 0.0280 - acc: 0.9921"
     ]
    },
    {
     "name": "stderr",
     "output_type": "stream",
     "text": [
      "C:\\ProgramData\\Anaconda3\\lib\\site-packages\\keras\\callbacks.py:122: UserWarning: Method on_batch_end() is slow compared to the batch update (0.153090). Check your callbacks.\n",
      "  % delta_t_median)\n"
     ]
    },
    {
     "name": "stdout",
     "output_type": "stream",
     "text": [
      "19264/60000 [========>.....................] - ETA: 2:35 - loss: 0.0279 - acc: 0.9921"
     ]
    },
    {
     "name": "stderr",
     "output_type": "stream",
     "text": [
      "C:\\ProgramData\\Anaconda3\\lib\\site-packages\\keras\\callbacks.py:122: UserWarning: Method on_batch_end() is slow compared to the batch update (0.156582). Check your callbacks.\n",
      "  % delta_t_median)\n"
     ]
    },
    {
     "name": "stdout",
     "output_type": "stream",
     "text": [
      "19584/60000 [========>.....................] - ETA: 2:36 - loss: 0.0279 - acc: 0.9921"
     ]
    },
    {
     "name": "stderr",
     "output_type": "stream",
     "text": [
      "C:\\ProgramData\\Anaconda3\\lib\\site-packages\\keras\\callbacks.py:122: UserWarning: Method on_batch_end() is slow compared to the batch update (0.124166). Check your callbacks.\n",
      "  % delta_t_median)\n",
      "C:\\ProgramData\\Anaconda3\\lib\\site-packages\\keras\\callbacks.py:122: UserWarning: Method on_batch_end() is slow compared to the batch update (0.107711). Check your callbacks.\n",
      "  % delta_t_median)\n"
     ]
    },
    {
     "name": "stdout",
     "output_type": "stream",
     "text": [
      "19744/60000 [========>.....................] - ETA: 2:35 - loss: 0.0283 - acc: 0.9920"
     ]
    },
    {
     "name": "stderr",
     "output_type": "stream",
     "text": [
      "C:\\ProgramData\\Anaconda3\\lib\\site-packages\\keras\\callbacks.py:122: UserWarning: Method on_batch_end() is slow compared to the batch update (0.112201). Check your callbacks.\n",
      "  % delta_t_median)\n"
     ]
    },
    {
     "name": "stdout",
     "output_type": "stream",
     "text": [
      "60000/60000 [==============================] - 141s 2ms/step - loss: 0.0299 - acc: 0.9918\n",
      "Epoch 7/10\n",
      "60000/60000 [==============================] - 84s 1ms/step - loss: 0.0280 - acc: 0.9921\n",
      "Epoch 8/10\n",
      "60000/60000 [==============================] - 87s 1ms/step - loss: 0.0244 - acc: 0.9931\n",
      "Epoch 9/10\n",
      "60000/60000 [==============================] - 90s 2ms/step - loss: 0.0235 - acc: 0.9935\n",
      "Epoch 10/10\n",
      "60000/60000 [==============================] - 89s 1ms/step - loss: 0.0218 - acc: 0.9944\n"
     ]
    },
    {
     "data": {
      "text/plain": [
       "<keras.callbacks.History at 0x203540b7f60>"
      ]
     },
     "execution_count": 10,
     "metadata": {},
     "output_type": "execute_result"
    }
   ],
   "source": [
    "model.compile(optimizer='adam', \n",
    "              loss='sparse_categorical_crossentropy', \n",
    "              metrics=['accuracy'])\n",
    "\n",
    "model.fit(x=x_train,y=y_train, epochs=10)"
   ]
  },
  {
   "cell_type": "markdown",
   "metadata": {
    "colab_type": "text",
    "id": "uke-GRFk4E4W"
   },
   "source": [
    "# Evaluate the Model"
   ]
  },
  {
   "cell_type": "code",
   "execution_count": 11,
   "metadata": {
    "colab": {
     "base_uri": "https://localhost:8080/",
     "height": 50
    },
    "colab_type": "code",
    "executionInfo": {
     "elapsed": 1291,
     "status": "ok",
     "timestamp": 1548334393372,
     "user": {
      "displayName": "Yu-Kai Thia",
      "photoUrl": "",
      "userId": "00176141171406322846"
     },
     "user_tz": -480
    },
    "id": "jGSrzlPV4E4Y",
    "outputId": "00b4045a-968a-4925-f5ac-463009ff389e"
   },
   "outputs": [
    {
     "name": "stdout",
     "output_type": "stream",
     "text": [
      "10000/10000 [==============================] - 7s 715us/step\n",
      "CNN Error: 0.90%\n"
     ]
    }
   ],
   "source": [
    "scores = model.evaluate(x_test, y_test)\n",
    "print(\"CNN Error: %.2f%%\" % (100-scores[1]*100))"
   ]
  },
  {
   "cell_type": "markdown",
   "metadata": {
    "colab_type": "text",
    "id": "HU6GgSef4E4f"
   },
   "source": [
    "# Sample Test 1 of model on data"
   ]
  },
  {
   "cell_type": "code",
   "execution_count": 12,
   "metadata": {
    "colab": {
     "base_uri": "https://localhost:8080/",
     "height": 282
    },
    "colab_type": "code",
    "executionInfo": {
     "elapsed": 986,
     "status": "ok",
     "timestamp": 1548333826542,
     "user": {
      "displayName": "Yu-Kai Thia",
      "photoUrl": "",
      "userId": "00176141171406322846"
     },
     "user_tz": -480
    },
    "id": "OJYQ279b4E4g",
    "outputId": "fbd43b11-05ee-4aaa-cb1f-0d1eab6808bf"
   },
   "outputs": [
    {
     "data": {
      "text/plain": [
       "<matplotlib.image.AxesImage at 0x203548fce10>"
      ]
     },
     "execution_count": 12,
     "metadata": {},
     "output_type": "execute_result"
    },
    {
     "data": {
      "image/png": "[encoded data removed]",
      "text/plain": [
       "<Figure size 432x288 with 1 Axes>"
      ]
     },
     "metadata": {
      "needs_background": "light"
     },
     "output_type": "display_data"
    }
   ],
   "source": [
    "image_index = 4444\n",
    "plt.imshow(x_test[image_index].reshape(28, 28),cmap='Greys')\n"
   ]
  },
  {
   "cell_type": "code",
   "execution_count": 13,
   "metadata": {
    "colab": {
     "base_uri": "https://localhost:8080/",
     "height": 34
    },
    "colab_type": "code",
    "executionInfo": {
     "elapsed": 755,
     "status": "ok",
     "timestamp": 1548333830065,
     "user": {
      "displayName": "Yu-Kai Thia",
      "photoUrl": "",
      "userId": "00176141171406322846"
     },
     "user_tz": -480
    },
    "id": "hiRQB8FO4E4l",
    "outputId": "1f72b304-c093-4086-fc03-bcfe6c21f1ae"
   },
   "outputs": [
    {
     "name": "stdout",
     "output_type": "stream",
     "text": [
      "9\n"
     ]
    }
   ],
   "source": [
    "pred = model.predict(x_test[image_index].reshape(1, 28, 28, 1))\n",
    "print(pred.argmax())"
   ]
  },
  {
   "cell_type": "markdown",
   "metadata": {
    "colab_type": "text",
    "id": "idLVt4db4E4r"
   },
   "source": [
    "# Sample Test 2 of model on data"
   ]
  },
  {
   "cell_type": "code",
   "execution_count": 14,
   "metadata": {
    "colab": {
     "base_uri": "https://localhost:8080/",
     "height": 282
    },
    "colab_type": "code",
    "executionInfo": {
     "elapsed": 773,
     "status": "ok",
     "timestamp": 1548333833615,
     "user": {
      "displayName": "Yu-Kai Thia",
      "photoUrl": "",
      "userId": "00176141171406322846"
     },
     "user_tz": -480
    },
    "id": "dsH1Nmhe4E4t",
    "outputId": "22738999-7c1d-4e85-825d-39ffa0eb66cb"
   },
   "outputs": [
    {
     "data": {
      "text/plain": [
       "<matplotlib.image.AxesImage at 0x20355b1b668>"
      ]
     },
     "execution_count": 14,
     "metadata": {},
     "output_type": "execute_result"
    },
    {
     "data": {
      "image/png": "[encoded data removed]",
      "text/plain": [
       "<Figure size 432x288 with 1 Axes>"
      ]
     },
     "metadata": {
      "needs_background": "light"
     },
     "output_type": "display_data"
    }
   ],
   "source": [
    "image_index = 5555\n",
    "plt.imshow(x_test[image_index].reshape(28, 28),cmap='Greys')"
   ]
  },
  {
   "cell_type": "code",
   "execution_count": 11,
   "metadata": {
    "colab": {
     "base_uri": "https://localhost:8080/",
     "height": 34
    },
    "colab_type": "code",
    "executionInfo": {
     "elapsed": 773,
     "status": "ok",
     "timestamp": 1548333836190,
     "user": {
      "displayName": "Yu-Kai Thia",
      "photoUrl": "",
      "userId": "00176141171406322846"
     },
     "user_tz": -480
    },
    "id": "WPLU40KH4E4y",
    "outputId": "e3972de5-6f28-4b69-cfc7-5c703cb14d69"
   },
   "outputs": [
    {
     "name": "stdout",
     "output_type": "stream",
     "text": [
      "3\n"
     ]
    }
   ],
   "source": [
    "pred = model.predict(x_test[image_index].reshape(1, 28, 28, 1))\n",
    "print(pred.argmax())"
   ]
  },
  {
   "cell_type": "markdown",
   "metadata": {
    "colab_type": "text",
    "id": "KwMt7ONr4E43"
   },
   "source": [
    "The objective of this task is to implement an image classifier using a deep learning network. After the completion of the training of the model, it should be able to predict numbers from images with a high level of accuracy.\n",
    "\n",
    "The data was split into training as well as test data, where x_train and x_test contain greyscale RGB codes (from 0 to 255), while y_train and y_test data contains the labels of the images. We then normalize the input data from 0-255 to 0-1 by 1st converting the x_train and x_test to float and then dividing the x_train and x_test by 255.\n",
    "\n",
    "After which, the data was reshaped to 4D so that it can with the Keras API.\n",
    "\n",
    "We selected Convolutional Neural Network (CNN) as it is primarily used for image processing. This was done by importing the Sequential model from Keras and adding layers to the sequential model such as Convolution Layer 2D. Next we define a pooling layer that takes the max called MaxPooling2D. It is configured with a pool size of 2×2. Next we added a flatten layer flatten 2D arrays to 1D array before building the fully connected layers.Next 2 fully connected layers with 128 neurons and 64 neurons repectively and rectifier activation function. The next layer is a regularization layer using dropout called Dropout. It is configured to randomly exclude 20% of neurons in the layer in order to reduce overfitting. Finally, the output layer has 10 neurons for the 10 classes and a softmax activation function to output probability-like predictions for each class.\n",
    "\n",
    "The model was then trained using logarithmic loss and the ADAM gradient descent algorithm.\n",
    "\n",
    "We evaluate the model with the multi-layer perceptron. The CNN was fitted over 5 epochs. This gave us an accuracy of 98.26%."
   ]
  }
 ],
 "metadata": {
  "accelerator": "GPU",
  "colab": {
   "collapsed_sections": [],
   "name": "CA2 - MNIST (1).ipynb",
   "provenance": [],
   "version": "0.3.2"
  },
  "kernelspec": {
   "display_name": "Python 3",
   "language": "python",
   "name": "python3"
  },
  "language_info": {
   "codemirror_mode": {
    "name": "ipython",
    "version": 3
   },
   "file_extension": ".py",
   "mimetype": "text/x-python",
   "name": "python",
   "nbconvert_exporter": "python",
   "pygments_lexer": "ipython3",
   "version": "3.6.6"
  }
 },
 "nbformat": 4,
 "nbformat_minor": 1
}
