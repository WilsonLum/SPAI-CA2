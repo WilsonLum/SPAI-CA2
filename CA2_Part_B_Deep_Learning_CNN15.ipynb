{
 "cells": [
  {
   "cell_type": "code",
   "execution_count": 0,
   "metadata": {
    "colab": {},
    "colab_type": "code",
    "id": "NJgtTbi32rEP"
   },
   "outputs": [],
   "source": [
    "import keras\n",
    "from keras.datasets import mnist\n",
    "from keras.models import Sequential\n",
    "from keras.layers import Dense, Dropout, Flatten\n",
    "from keras.layers import Conv2D, MaxPooling2D\n",
    "from keras import backend as K\n",
    "import tensorflow as tf\n",
    "import numpy\n",
    "K.set_image_dim_ordering('th')\n",
    "\n",
    "seed = 88\n",
    "numpy.random.seed(seed)\n",
    "\n",
    "(x_train, y_train), (x_test, y_test) = tf.keras.datasets.mnist.load_data()"
   ]
  },
  {
   "cell_type": "code",
   "execution_count": 80,
   "metadata": {
    "colab": {
     "base_uri": "https://localhost:8080/",
     "height": 298
    },
    "colab_type": "code",
    "id": "ab4JGV_P3v3M",
    "outputId": "71db3b4b-b39f-474e-a206-e9cf2ea0b55c"
   },
   "outputs": [
    {
     "name": "stdout",
     "output_type": "stream",
     "text": [
      "8\n"
     ]
    },
    {
     "data": {
      "text/plain": [
       "<matplotlib.image.AxesImage at 0x7f75d92c9780>"
      ]
     },
     "execution_count": 80,
     "metadata": {
      "tags": []
     },
     "output_type": "execute_result"
    },
    {
     "data": {
      "image/png": "[encoded data removed]",
      "text/plain": [
       "<Figure size 432x288 with 1 Axes>"
      ]
     },
     "metadata": {
      "tags": []
     },
     "output_type": "display_data"
    }
   ],
   "source": [
    "import matplotlib.pyplot as plt\n",
    "%matplotlib inline\n",
    "\n",
    "#selecting a random image from the dataset\n",
    "image_index = 23456\n",
    "\n",
    "# print the label\n",
    "print(y_train[image_index])\n",
    "\n",
    "#show the image\n",
    "plt.imshow(x_train[image_index], cmap='Greys') "
   ]
  },
  {
   "cell_type": "code",
   "execution_count": 81,
   "metadata": {
    "colab": {
     "base_uri": "https://localhost:8080/",
     "height": 34
    },
    "colab_type": "code",
    "id": "3KZ-LXCx3v7O",
    "outputId": "fbdeb87a-7f4c-419b-e70c-ae61172bb5cc"
   },
   "outputs": [
    {
     "data": {
      "text/plain": [
       "(60000, 28, 28)"
      ]
     },
     "execution_count": 81,
     "metadata": {
      "tags": []
     },
     "output_type": "execute_result"
    }
   ],
   "source": [
    "#show the shape of the data set\n",
    "x_train.shape"
   ]
  },
  {
   "cell_type": "code",
   "execution_count": 82,
   "metadata": {
    "colab": {
     "base_uri": "https://localhost:8080/",
     "height": 67
    },
    "colab_type": "code",
    "id": "6LNX6MaS3v_X",
    "outputId": "5299efd6-1e1a-4ffd-f76e-c9a2013c1947"
   },
   "outputs": [
    {
     "name": "stdout",
     "output_type": "stream",
     "text": [
      "x_train shape: (60000, 1, 28, 28)\n",
      "Number of images in x_train 60000\n",
      "Number of images in x_test 10000\n"
     ]
    }
   ],
   "source": [
    "from keras.utils import np_utils\n",
    "\n",
    "\n",
    "# flatten 28*28 images to a 784 vector for each image\n",
    "# reshaping the data so that it can work with the Keras API\n",
    "x_train = x_train.reshape(x_train.shape[0], 1, 28, 28).astype('float32')\n",
    "x_test = x_test.reshape(x_test.shape[0], 1, 28, 28).astype('float32')\n",
    "\n",
    "# normalize inputs from 0-255 to 0-1\n",
    "x_train /= 255\n",
    "x_test /= 255\n",
    "\n",
    "y_train = np_utils.to_categorical(y_train)\n",
    "y_test = np_utils.to_categorical(y_test)\n",
    "num_classes = y_test.shape[1]\n",
    "\n",
    "print('x_train shape:', x_train.shape)\n",
    "print('Number of images in x_train', x_train.shape[0])\n",
    "print('Number of images in x_test', x_test.shape[0])"
   ]
  },
  {
   "cell_type": "code",
   "execution_count": 83,
   "metadata": {
    "colab": {
     "base_uri": "https://localhost:8080/",
     "height": 806
    },
    "colab_type": "code",
    "id": "YqhO_e7c78MU",
    "outputId": "270e4d42-922d-4d81-ea24-2f1cec090dbe"
   },
   "outputs": [
    {
     "name": "stdout",
     "output_type": "stream",
     "text": [
      "_________________________________________________________________\n",
      "Layer (type)                 Output Shape              Param #   \n",
      "=================================================================\n",
      "conv2d_28 (Conv2D)           (None, 56, 24, 24)        1456      \n",
      "_________________________________________________________________\n",
      "max_pooling2d_26 (MaxPooling (None, 56, 12, 12)        0         \n",
      "_________________________________________________________________\n",
      "conv2d_29 (Conv2D)           (None, 15, 10, 10)        7575      \n",
      "_________________________________________________________________\n",
      "max_pooling2d_27 (MaxPooling (None, 15, 5, 5)          0         \n",
      "_________________________________________________________________\n",
      "batch_normalization_44 (Batc (None, 15, 5, 5)          20        \n",
      "_________________________________________________________________\n",
      "dropout_41 (Dropout)         (None, 15, 5, 5)          0         \n",
      "_________________________________________________________________\n",
      "flatten_9 (Flatten)          (None, 375)               0         \n",
      "_________________________________________________________________\n",
      "dense_41 (Dense)             (None, 256)               96256     \n",
      "_________________________________________________________________\n",
      "dropout_42 (Dropout)         (None, 256)               0         \n",
      "_________________________________________________________________\n",
      "batch_normalization_45 (Batc (None, 256)               1024      \n",
      "_________________________________________________________________\n",
      "dense_42 (Dense)             (None, 192)               49344     \n",
      "_________________________________________________________________\n",
      "dropout_43 (Dropout)         (None, 192)               0         \n",
      "_________________________________________________________________\n",
      "batch_normalization_46 (Batc (None, 192)               768       \n",
      "_________________________________________________________________\n",
      "dense_43 (Dense)             (None, 128)               24704     \n",
      "_________________________________________________________________\n",
      "dropout_44 (Dropout)         (None, 128)               0         \n",
      "_________________________________________________________________\n",
      "batch_normalization_47 (Batc (None, 128)               512       \n",
      "_________________________________________________________________\n",
      "dense_44 (Dense)             (None, 64)                8256      \n",
      "_________________________________________________________________\n",
      "dropout_45 (Dropout)         (None, 64)                0         \n",
      "_________________________________________________________________\n",
      "batch_normalization_48 (Batc (None, 64)                256       \n",
      "_________________________________________________________________\n",
      "dense_45 (Dense)             (None, 10)                650       \n",
      "=================================================================\n",
      "Total params: 190,821\n",
      "Trainable params: 189,531\n",
      "Non-trainable params: 1,290\n",
      "_________________________________________________________________\n"
     ]
    }
   ],
   "source": [
    "# Importing the required Keras modules containing model and layers\n",
    "from keras.models import Sequential\n",
    "from keras.layers import Dense, Conv2D, Dropout, Flatten, MaxPooling2D\n",
    "from keras.layers.normalization import BatchNormalization\n",
    "\n",
    "# Creating a Sequential Model and adding the layers\n",
    "model = Sequential()\n",
    "\n",
    "# 2D convolution layer with 28 nodes at the 1st layer, kernel size of 5,5 = 5x5 filter matrix\n",
    "model.add(Conv2D(56, (5, 5), input_shape=(1, 28, 28), activation='relu'))\n",
    "\n",
    "# pooling layer to reduce the spatial size of the representation to reduce the parameter counts which \n",
    "# reduces the computational complexity\n",
    "model.add(MaxPooling2D(pool_size=(2, 2)))\n",
    "model.add(Conv2D(15, (3, 3), activation='relu'))\n",
    "model.add(MaxPooling2D(pool_size=(2, 2)))\n",
    "model.add(BatchNormalization())\n",
    "\n",
    "#Dropout layers fight with the overfitting by disregarding some of the neurons\n",
    "model.add(Dropout(0.2))\n",
    "#Flatten layers flatten 2D arrays to 1D array for fully connected layers\n",
    "model.add(Flatten()) \n",
    "model.add(Dense(256, activation=tf.nn.relu))\n",
    "model.add(Dropout(0.2))\n",
    "model.add(BatchNormalization())\n",
    "model.add(Dense(192, activation=tf.nn.relu))\n",
    "model.add(Dropout(0.2))\n",
    "model.add(BatchNormalization())\n",
    "model.add(Dense(128, activation=tf.nn.relu))\n",
    "model.add(Dropout(0.2))\n",
    "model.add(BatchNormalization())\n",
    "model.add(Dense(64, activation=tf.nn.relu))\n",
    "model.add(Dropout(0.2))\n",
    "model.add(BatchNormalization())\n",
    "\n",
    "#final Dense layer must have 10 neurons\n",
    "model.add(Dense(num_classes,activation=tf.nn.softmax))\n",
    "model.summary()"
   ]
  },
  {
   "cell_type": "code",
   "execution_count": 92,
   "metadata": {
    "colab": {
     "base_uri": "https://localhost:8080/",
     "height": 336
    },
    "colab_type": "code",
    "id": "5EGMZlPX3wFi",
    "outputId": "c131d5c2-d635-4d8f-a62a-7efae312a1e3"
   },
   "outputs": [
    {
     "name": "stdout",
     "output_type": "stream",
     "text": [
      "Train on 60000 samples, validate on 10000 samples\n",
      "Epoch 1/9\n",
      "60000/60000 [==============================] - 22s 374us/step - loss: 0.0349 - acc: 0.9898 - val_loss: 0.0289 - val_acc: 0.9916\n",
      "Epoch 2/9\n",
      "60000/60000 [==============================] - 16s 274us/step - loss: 0.0314 - acc: 0.9912 - val_loss: 0.0189 - val_acc: 0.9937\n",
      "Epoch 3/9\n",
      "60000/60000 [==============================] - 16s 273us/step - loss: 0.0299 - acc: 0.9913 - val_loss: 0.0216 - val_acc: 0.9935\n",
      "Epoch 4/9\n",
      "60000/60000 [==============================] - 16s 267us/step - loss: 0.0292 - acc: 0.9917 - val_loss: 0.0247 - val_acc: 0.9930\n",
      "Epoch 5/9\n",
      "60000/60000 [==============================] - 16s 268us/step - loss: 0.0287 - acc: 0.9916 - val_loss: 0.0248 - val_acc: 0.9921\n",
      "Epoch 6/9\n",
      "60000/60000 [==============================] - 16s 266us/step - loss: 0.0251 - acc: 0.9927 - val_loss: 0.0234 - val_acc: 0.9936\n",
      "Epoch 7/9\n",
      "60000/60000 [==============================] - 16s 268us/step - loss: 0.0226 - acc: 0.9936 - val_loss: 0.0226 - val_acc: 0.9933\n",
      "Epoch 8/9\n",
      "60000/60000 [==============================] - 16s 268us/step - loss: 0.0224 - acc: 0.9937 - val_loss: 0.0228 - val_acc: 0.9940\n",
      "Epoch 9/9\n",
      "60000/60000 [==============================] - 16s 268us/step - loss: 0.0239 - acc: 0.9929 - val_loss: 0.0233 - val_acc: 0.9933\n"
     ]
    }
   ],
   "source": [
    "model.compile(Adam(lr=0.0001), \n",
    "              loss='categorical_crossentropy', \n",
    "              metrics=['accuracy'])\n",
    "\n",
    "# Fit the model\n",
    "hist = model.fit(x_train, y_train, batch_size=100, epochs=9,validation_data=(x_test, y_test), verbose=1)"
   ]
  },
  {
   "cell_type": "code",
   "execution_count": 93,
   "metadata": {
    "colab": {
     "base_uri": "https://localhost:8080/",
     "height": 50
    },
    "colab_type": "code",
    "id": "9QWsnuUX3wIg",
    "outputId": "eee9a922-c679-437f-bd08-addf42509194"
   },
   "outputs": [
    {
     "name": "stdout",
     "output_type": "stream",
     "text": [
      "10000/10000 [==============================] - 2s 184us/step\n",
      "CNN Error: 0.67%\n"
     ]
    }
   ],
   "source": [
    "scores = model.evaluate(x_test, y_test)\n",
    "print(\"CNN Error: %.2f%%\" % (100-scores[1]*100))"
   ]
  },
  {
   "cell_type": "code",
   "execution_count": 94,
   "metadata": {
    "colab": {
     "base_uri": "https://localhost:8080/",
     "height": 282
    },
    "colab_type": "code",
    "id": "R1t_6b7S4Co3",
    "outputId": "f7f56c8a-bf99-4d53-f2fc-d85aa8d7359f"
   },
   "outputs": [
    {
     "data": {
      "text/plain": [
       "<matplotlib.image.AxesImage at 0x7f75d6af6748>"
      ]
     },
     "execution_count": 94,
     "metadata": {
      "tags": []
     },
     "output_type": "execute_result"
    },
    {
     "data": {
      "image/png": "[encoded data removed]",
      "text/plain": [
       "<Figure size 432x288 with 1 Axes>"
      ]
     },
     "metadata": {
      "tags": []
     },
     "output_type": "display_data"
    }
   ],
   "source": [
    "image_index = 5678\n",
    "plt.imshow(x_test[image_index].reshape(28, 28),cmap='Greys')\n"
   ]
  },
  {
   "cell_type": "code",
   "execution_count": 95,
   "metadata": {
    "colab": {
     "base_uri": "https://localhost:8080/",
     "height": 34
    },
    "colab_type": "code",
    "id": "15XS8Ap366Mb",
    "outputId": "f49a8fed-24ee-419b-a1eb-954f36f02681"
   },
   "outputs": [
    {
     "name": "stdout",
     "output_type": "stream",
     "text": [
      "8\n"
     ]
    }
   ],
   "source": [
    "pred = model.predict(x_test[5678].reshape(1, 1, 28, 28))\n",
    "print(pred.argmax())"
   ]
  },
  {
   "cell_type": "code",
   "execution_count": 96,
   "metadata": {
    "colab": {
     "base_uri": "https://localhost:8080/",
     "height": 282
    },
    "colab_type": "code",
    "id": "aRZuKbry4Ct9",
    "outputId": "9cbb9cca-f935-419a-cbda-f1d4d0c5fcaf"
   },
   "outputs": [
    {
     "data": {
      "text/plain": [
       "<matplotlib.image.AxesImage at 0x7f75d6a512b0>"
      ]
     },
     "execution_count": 96,
     "metadata": {
      "tags": []
     },
     "output_type": "execute_result"
    },
    {
     "data": {
      "image/png": "[encoded data removed]",
      "text/plain": [
       "<Figure size 432x288 with 1 Axes>"
      ]
     },
     "metadata": {
      "tags": []
     },
     "output_type": "display_data"
    }
   ],
   "source": [
    "image_index = 2345\n",
    "plt.imshow(x_test[image_index].reshape(28, 28),cmap='Greys')"
   ]
  },
  {
   "cell_type": "code",
   "execution_count": 97,
   "metadata": {
    "colab": {
     "base_uri": "https://localhost:8080/",
     "height": 50
    },
    "colab_type": "code",
    "id": "bAXUKUjU4Cwr",
    "outputId": "3dabe52a-307f-4789-d81f-f39a8ba627f4"
   },
   "outputs": [
    {
     "name": "stdout",
     "output_type": "stream",
     "text": [
      "9\n",
      "2345\n"
     ]
    }
   ],
   "source": [
    "pred = model.predict(x_test[image_index].reshape(1, 1, 28, 28))\n",
    "print(pred.argmax())\n",
    "print(image_index)"
   ]
  },
  {
   "cell_type": "code",
   "execution_count": 98,
   "metadata": {
    "colab": {
     "base_uri": "https://localhost:8080/",
     "height": 294
    },
    "colab_type": "code",
    "id": "oMaJhxKoPVkP",
    "outputId": "82b78001-45e0-440d-a7c3-b20ba2a2d3b4"
   },
   "outputs": [
    {
     "data": {
      "image/png": "[encoded data removed]",
      "text/plain": [
       "<Figure size 432x288 with 1 Axes>"
      ]
     },
     "metadata": {
      "tags": []
     },
     "output_type": "display_data"
    }
   ],
   "source": [
    "import matplotlib.pyplot as plt\n",
    "\n",
    "plt.plot(hist.history['acc'])\n",
    "plt.plot(hist.history['val_acc'])\n",
    "\n",
    "# Plot legend and use the best location automatically: loc = 0\n",
    "plt.legend([\"Train acc\", \"Validation acc\"], loc = 'lower right')\n",
    "plt.title(\"Training Validation acc per Epoch\")\n",
    "plt.xlabel(\"Epoch\")\n",
    "plt.ylabel(\"acc\")\n",
    "plt.show()"
   ]
  },
  {
   "cell_type": "code",
   "execution_count": 99,
   "metadata": {
    "colab": {
     "base_uri": "https://localhost:8080/",
     "height": 294
    },
    "colab_type": "code",
    "id": "-NRg7rZePVps",
    "outputId": "1ba57696-3afa-467c-f87c-5b32dc57f49a"
   },
   "outputs": [
    {
     "data": {
      "image/png": "[encoded data removed]",
      "text/plain": [
       "<Figure size 432x288 with 1 Axes>"
      ]
     },
     "metadata": {
      "tags": []
     },
     "output_type": "display_data"
    }
   ],
   "source": [
    "plt.plot(hist.history['loss'])\n",
    "plt.plot(hist.history['val_loss'])\n",
    "\n",
    "# Plot legend and use the best location automatically: loc = 0\n",
    "plt.legend([\"Train acc\", \"Validation acc\"], loc = 'upper right')\n",
    "plt.title(\"Training Validation acc per Epoch\")\n",
    "plt.xlabel(\"Epoch\")\n",
    "plt.ylabel(\"acc\")\n",
    "plt.show()"
   ]
  }
 ],
 "metadata": {
  "accelerator": "GPU",
  "colab": {
   "collapsed_sections": [],
   "name": "CA2_Part_B_Deep_Learning_CNN15.ipynb",
   "provenance": [],
   "version": "0.3.2"
  },
  "kernelspec": {
   "display_name": "Python 3",
   "language": "python",
   "name": "python3"
  },
  "language_info": {
   "codemirror_mode": {
    "name": "ipython",
    "version": 3
   },
   "file_extension": ".py",
   "mimetype": "text/x-python",
   "name": "python",
   "nbconvert_exporter": "python",
   "pygments_lexer": "ipython3",
   "version": "3.6.6"
  }
 },
 "nbformat": 4,
 "nbformat_minor": 1
}
