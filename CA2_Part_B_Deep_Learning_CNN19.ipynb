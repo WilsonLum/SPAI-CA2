{
  "nbformat": 4,
  "nbformat_minor": 0,
  "metadata": {
    "colab": {
      "name": "CA2_Part_B_Deep_Learning_CNN20.ipynb",
      "version": "0.3.2",
      "provenance": [],
      "collapsed_sections": []
    },
    "kernelspec": {
      "name": "python3",
      "display_name": "Python 3"
    },
    "accelerator": "GPU"
  },
  "cells": [
    {
      "metadata": {
        "id": "NJgtTbi32rEP",
        "colab_type": "code",
        "outputId": "c5ee6b30-818c-448c-e521-b3857090f3fe",
        "colab": {
          "base_uri": "https://localhost:8080/",
          "height": 67
        }
      },
      "cell_type": "code",
      "source": [
        "import keras\n",
        "from keras.datasets import mnist\n",
        "from keras.models import Sequential\n",
        "from keras.layers import Dense, Dropout, Flatten\n",
        "from keras.layers import Conv2D, MaxPooling2D\n",
        "from keras import backend as K\n",
        "import tensorflow as tf\n",
        "import numpy\n",
        "import math\n",
        "\n",
        "K.set_image_dim_ordering('th')\n",
        "\n",
        "seed = 88\n",
        "numpy.random.seed(seed)\n",
        "\n",
        "(x_train, y_train), (x_test, y_test) = tf.keras.datasets.mnist.load_data()"
      ],
      "execution_count": 1,
      "outputs": [
        {
          "output_type": "stream",
          "text": [
            "Using TensorFlow backend.\n"
          ],
          "name": "stderr"
        },
        {
          "output_type": "stream",
          "text": [
            "Downloading data from https://storage.googleapis.com/tensorflow/tf-keras-datasets/mnist.npz\n",
            "11493376/11490434 [==============================] - 0s 0us/step\n"
          ],
          "name": "stdout"
        }
      ]
    },
    {
      "metadata": {
        "id": "ab4JGV_P3v3M",
        "colab_type": "code",
        "outputId": "0f4cbb3a-6ce0-49a2-821e-263e4c547c2f",
        "colab": {
          "base_uri": "https://localhost:8080/",
          "height": 298
        }
      },
      "cell_type": "code",
      "source": [
        "import matplotlib.pyplot as plt\n",
        "%matplotlib inline\n",
        "\n",
        "#selecting a random image from the dataset\n",
        "image_index = 23456\n",
        "\n",
        "# print the label\n",
        "print(y_train[image_index])\n",
        "\n",
        "#show the image\n",
        "plt.imshow(x_train[image_index], cmap='Greys') "
      ],
      "execution_count": 2,
      "outputs": [
        {
          "output_type": "stream",
          "text": [
            "8\n"
          ],
          "name": "stdout"
        },
        {
          "output_type": "execute_result",
          "data": {
            "text/plain": [
              "<matplotlib.image.AxesImage at 0x7fc00aaab588>"
            ]
          },
          "metadata": {
            "tags": []
          },
          "execution_count": 2
        },
        {
          "output_type": "display_data",
          "data": {
            "image/png": "[encoded data removed]",
            "text/plain": [
              "<Figure size 432x288 with 1 Axes>"
            ]
          },
          "metadata": {
            "tags": []
          }
        }
      ]
    },
    {
      "metadata": {
        "id": "3KZ-LXCx3v7O",
        "colab_type": "code",
        "outputId": "fb72a099-a2c1-4b12-cee1-25f0abbd3b8e",
        "colab": {
          "base_uri": "https://localhost:8080/",
          "height": 34
        }
      },
      "cell_type": "code",
      "source": [
        "#show the shape of the data set\n",
        "x_train.shape"
      ],
      "execution_count": 3,
      "outputs": [
        {
          "output_type": "execute_result",
          "data": {
            "text/plain": [
              "(60000, 28, 28)"
            ]
          },
          "metadata": {
            "tags": []
          },
          "execution_count": 3
        }
      ]
    },
    {
      "metadata": {
        "id": "6LNX6MaS3v_X",
        "colab_type": "code",
        "outputId": "1d5fb6f3-d9fb-44bb-9667-0daa768c7183",
        "colab": {
          "base_uri": "https://localhost:8080/",
          "height": 67
        }
      },
      "cell_type": "code",
      "source": [
        "from keras.utils import np_utils\n",
        "\n",
        "\n",
        "# flatten 28*28 images to a 784 vector for each image\n",
        "# reshaping the data so that it can work with the Keras API\n",
        "x_train = x_train.reshape(x_train.shape[0], 1, 28, 28).astype('float32')\n",
        "x_test = x_test.reshape(x_test.shape[0], 1, 28, 28).astype('float32')\n",
        "\n",
        "# normalize inputs from 0-255 to 0-1\n",
        "x_train /= 255\n",
        "x_test /= 255\n",
        "\n",
        "y_train = np_utils.to_categorical(y_train)\n",
        "y_test = np_utils.to_categorical(y_test)\n",
        "num_classes = y_test.shape[1]\n",
        "\n",
        "print('x_train shape:', x_train.shape)\n",
        "print('Number of images in x_train', x_train.shape[0])\n",
        "print('Number of images in x_test', x_test.shape[0])"
      ],
      "execution_count": 4,
      "outputs": [
        {
          "output_type": "stream",
          "text": [
            "x_train shape: (60000, 1, 28, 28)\n",
            "Number of images in x_train 60000\n",
            "Number of images in x_test 10000\n"
          ],
          "name": "stdout"
        }
      ]
    },
    {
      "metadata": {
        "id": "YqhO_e7c78MU",
        "colab_type": "code",
        "outputId": "dda294e4-663d-4b20-e35e-2646ccb60a5e",
        "colab": {
          "base_uri": "https://localhost:8080/",
          "height": 927
        }
      },
      "cell_type": "code",
      "source": [
        "# Importing the required Keras modules containing model and layers\n",
        "from keras.models import Sequential\n",
        "from keras.layers import Dense, Conv2D, Dropout, Flatten, MaxPooling2D\n",
        "from keras.layers.normalization import BatchNormalization\n",
        "from keras.callbacks import LearningRateScheduler\n",
        "\n",
        "# Creating a Sequential Model and adding the layers\n",
        "model = Sequential()\n",
        "\n",
        "# 2D convolution layer with 28 nodes at the 1st layer, kernel size of 5,5 = 5x5 filter matrix\n",
        "model.add(Conv2D(56, (5, 5), input_shape=(1, 28, 28), activation='relu'))\n",
        "\n",
        "# pooling layer to reduce the spatial size of the representation to reduce the parameter counts which \n",
        "# reduces the computational complexity\n",
        "model.add(MaxPooling2D(pool_size=(2, 2)))\n",
        "model.add(Conv2D(15, (3, 3), activation='relu'))\n",
        "model.add(MaxPooling2D(pool_size=(2, 2)))\n",
        "model.add(BatchNormalization())\n",
        "\n",
        "#Dropout layers fight with the overfitting by disregarding some of the neurons\n",
        "model.add(Dropout(0.2))\n",
        "#Flatten layers flatten 2D arrays to 1D array for fully connected layers\n",
        "model.add(Flatten()) \n",
        "model.add(Dense(256, activation=tf.nn.relu))\n",
        "model.add(Dropout(0.2))\n",
        "model.add(BatchNormalization())\n",
        "model.add(Dense(192, activation=tf.nn.relu))\n",
        "model.add(Dropout(0.2))\n",
        "model.add(BatchNormalization())\n",
        "model.add(Dense(128, activation=tf.nn.relu))\n",
        "model.add(Dropout(0.2))\n",
        "model.add(BatchNormalization())\n",
        "model.add(Dense(64, activation=tf.nn.relu))\n",
        "model.add(Dropout(0.2))\n",
        "model.add(BatchNormalization())\n",
        "\n",
        "#final Dense layer must have 10 neurons\n",
        "model.add(Dense(num_classes,activation=tf.nn.softmax))\n",
        "model.summary()"
      ],
      "execution_count": 5,
      "outputs": [
        {
          "output_type": "stream",
          "text": [
            "WARNING:tensorflow:From /usr/local/lib/python3.6/dist-packages/tensorflow/python/framework/op_def_library.py:263: colocate_with (from tensorflow.python.framework.ops) is deprecated and will be removed in a future version.\n",
            "Instructions for updating:\n",
            "Colocations handled automatically by placer.\n",
            "WARNING:tensorflow:From /usr/local/lib/python3.6/dist-packages/keras/backend/tensorflow_backend.py:3445: calling dropout (from tensorflow.python.ops.nn_ops) with keep_prob is deprecated and will be removed in a future version.\n",
            "Instructions for updating:\n",
            "Please use `rate` instead of `keep_prob`. Rate should be set to `rate = 1 - keep_prob`.\n",
            "_________________________________________________________________\n",
            "Layer (type)                 Output Shape              Param #   \n",
            "=================================================================\n",
            "conv2d_1 (Conv2D)            (None, 56, 24, 24)        1456      \n",
            "_________________________________________________________________\n",
            "max_pooling2d_1 (MaxPooling2 (None, 56, 12, 12)        0         \n",
            "_________________________________________________________________\n",
            "conv2d_2 (Conv2D)            (None, 15, 10, 10)        7575      \n",
            "_________________________________________________________________\n",
            "max_pooling2d_2 (MaxPooling2 (None, 15, 5, 5)          0         \n",
            "_________________________________________________________________\n",
            "batch_normalization_1 (Batch (None, 15, 5, 5)          20        \n",
            "_________________________________________________________________\n",
            "dropout_1 (Dropout)          (None, 15, 5, 5)          0         \n",
            "_________________________________________________________________\n",
            "flatten_1 (Flatten)          (None, 375)               0         \n",
            "_________________________________________________________________\n",
            "dense_1 (Dense)              (None, 256)               96256     \n",
            "_________________________________________________________________\n",
            "dropout_2 (Dropout)          (None, 256)               0         \n",
            "_________________________________________________________________\n",
            "batch_normalization_2 (Batch (None, 256)               1024      \n",
            "_________________________________________________________________\n",
            "dense_2 (Dense)              (None, 192)               49344     \n",
            "_________________________________________________________________\n",
            "dropout_3 (Dropout)          (None, 192)               0         \n",
            "_________________________________________________________________\n",
            "batch_normalization_3 (Batch (None, 192)               768       \n",
            "_________________________________________________________________\n",
            "dense_3 (Dense)              (None, 128)               24704     \n",
            "_________________________________________________________________\n",
            "dropout_4 (Dropout)          (None, 128)               0         \n",
            "_________________________________________________________________\n",
            "batch_normalization_4 (Batch (None, 128)               512       \n",
            "_________________________________________________________________\n",
            "dense_4 (Dense)              (None, 64)                8256      \n",
            "_________________________________________________________________\n",
            "dropout_5 (Dropout)          (None, 64)                0         \n",
            "_________________________________________________________________\n",
            "batch_normalization_5 (Batch (None, 64)                256       \n",
            "_________________________________________________________________\n",
            "dense_5 (Dense)              (None, 10)                650       \n",
            "=================================================================\n",
            "Total params: 190,821\n",
            "Trainable params: 189,531\n",
            "Non-trainable params: 1,290\n",
            "_________________________________________________________________\n"
          ],
          "name": "stdout"
        }
      ]
    },
    {
      "metadata": {
        "id": "cv08CV9ZPq24",
        "colab_type": "code",
        "colab": {}
      },
      "cell_type": "code",
      "source": [
        "def plot_fig(i, history):\n",
        "    fig = plt.figure()\n",
        "    plt.plot(range(1,epochs+1),history.history['val_acc'],label='validation')\n",
        "    plt.plot(range(1,epochs+1),history.history['acc'],label='training')\n",
        "    plt.legend(loc=0)\n",
        "    plt.xlabel('epochs')\n",
        "    plt.ylabel('accuracy')\n",
        "    plt.xlim([1,epochs])\n",
        "    plt.grid(True)\n",
        "    plt.title(\"Model Accuracy\")\n",
        "    plt.show()\n",
        "    #fig.savefig('img/'+str(i)+'-accuracy.jpg')\n",
        "    #plt.close(fig)\n",
        "\n",
        "# Step Decay\n",
        "# Step decay schedule drops the learning rate by a factor every few epochs\n",
        "# define step decay function\n",
        "\n",
        "# As a digression, a callback is a set of functions to be applied at \n",
        "# given stages of the training procedure. We can use callbacks to get a \n",
        "# view on internal states and statistics of the model during training. \n",
        "# In our example, we create a custom callback by extending the base class keras.\n",
        "# callbacks.Callback to record loss history and learning rate during the \n",
        "# training procedure.\n",
        "class LossHistory(keras.callbacks.Callback):\n",
        "    def on_train_begin(self, logs={}):\n",
        "        self.losses = []\n",
        "        self.lr = []\n",
        "        \n",
        "    def on_epoch_end(self, batch, logs={}):\n",
        "        self.losses.append(logs.get('loss'))\n",
        "        self.lr.append(step_decay(len(self.losses)))\n",
        "        print('lr:', step_decay(len(self.losses)))\n",
        "\n",
        "# A typical way is to to drop the learning rate by half every 10 epochs. \n",
        "# To implement this in Keras, we can define a step decay function and use \n",
        "# LearningRateScheduler callback to take the step decay function as argument \n",
        "# and return the updated learning rates for use in SGD optimizer\n",
        "def step_decay(epoch):\n",
        "    initial_lrate = 0.004\n",
        "    drop = 0.5\n",
        "    epochs_drop = 4.0\n",
        "    lrate = initial_lrate * math.pow(drop, math.floor((epoch)/epochs_drop))\n",
        "    return lrate\n",
        "\n",
        "# learning schedule callback\n",
        "loss_history = LossHistory()\n",
        "lrate = LearningRateScheduler(step_decay)\n",
        "callbacks_list = [loss_history, lrate]"
      ],
      "execution_count": 0,
      "outputs": []
    },
    {
      "metadata": {
        "id": "eLHwTuwM_kMj",
        "colab_type": "code",
        "colab": {}
      },
      "cell_type": "code",
      "source": [
        "epochs = 80"
      ],
      "execution_count": 0,
      "outputs": []
    },
    {
      "metadata": {
        "id": "5EGMZlPX3wFi",
        "colab_type": "code",
        "outputId": "9cfbd70f-f405-4e10-980b-d9195f9c5535",
        "colab": {
          "base_uri": "https://localhost:8080/",
          "height": 4136
        }
      },
      "cell_type": "code",
      "source": [
        "# Adam is an optimization algorithm that can used instead of the classical stochastic gradient descent procedure \n",
        "# to update network weights iterative based in training data.\n",
        "adam = keras.optimizers.Adam(lr=0.005, beta_1=0.9, beta_2=0.999, epsilon=1e-08, decay=0.0)\n",
        "\n",
        "model.compile(optimizer = adam, \n",
        "              loss='categorical_crossentropy', \n",
        "              metrics=['accuracy'])\n",
        "\n",
        "# Fit the model\n",
        "hist = model.fit(x_train, y_train, batch_size=100, epochs=epochs,validation_data=(x_test, y_test), callbacks=callbacks_list,verbose=2)"
      ],
      "execution_count": 8,
      "outputs": [
        {
          "output_type": "stream",
          "text": [
            "WARNING:tensorflow:From /usr/local/lib/python3.6/dist-packages/tensorflow/python/ops/math_ops.py:3066: to_int32 (from tensorflow.python.ops.math_ops) is deprecated and will be removed in a future version.\n",
            "Instructions for updating:\n",
            "Use tf.cast instead.\n",
            "Train on 60000 samples, validate on 10000 samples\n",
            "Epoch 1/80\n",
            " - 16s - loss: 0.2467 - acc: 0.9276 - val_loss: 0.0743 - val_acc: 0.9790\n",
            "lr: 0.004\n",
            "Epoch 2/80\n",
            " - 11s - loss: 0.1004 - acc: 0.9715 - val_loss: 0.0597 - val_acc: 0.9823\n",
            "lr: 0.004\n",
            "Epoch 3/80\n",
            " - 11s - loss: 0.0784 - acc: 0.9781 - val_loss: 0.0385 - val_acc: 0.9892\n",
            "lr: 0.004\n",
            "Epoch 4/80\n",
            " - 11s - loss: 0.0704 - acc: 0.9803 - val_loss: 0.0415 - val_acc: 0.9879\n",
            "lr: 0.002\n",
            "Epoch 5/80\n",
            " - 11s - loss: 0.0485 - acc: 0.9866 - val_loss: 0.0237 - val_acc: 0.9936\n",
            "lr: 0.002\n",
            "Epoch 6/80\n",
            " - 12s - loss: 0.0417 - acc: 0.9882 - val_loss: 0.0252 - val_acc: 0.9935\n",
            "lr: 0.002\n",
            "Epoch 7/80\n",
            " - 11s - loss: 0.0406 - acc: 0.9887 - val_loss: 0.0280 - val_acc: 0.9924\n",
            "lr: 0.002\n",
            "Epoch 8/80\n",
            " - 11s - loss: 0.0391 - acc: 0.9890 - val_loss: 0.0232 - val_acc: 0.9932\n",
            "lr: 0.001\n",
            "Epoch 9/80\n",
            " - 11s - loss: 0.0295 - acc: 0.9916 - val_loss: 0.0210 - val_acc: 0.9938\n",
            "lr: 0.001\n",
            "Epoch 10/80\n",
            " - 11s - loss: 0.0274 - acc: 0.9926 - val_loss: 0.0235 - val_acc: 0.9938\n",
            "lr: 0.001\n",
            "Epoch 11/80\n",
            " - 11s - loss: 0.0242 - acc: 0.9930 - val_loss: 0.0191 - val_acc: 0.9953\n",
            "lr: 0.001\n",
            "Epoch 12/80\n",
            " - 11s - loss: 0.0258 - acc: 0.9927 - val_loss: 0.0209 - val_acc: 0.9951\n",
            "lr: 0.0005\n",
            "Epoch 13/80\n",
            " - 11s - loss: 0.0210 - acc: 0.9941 - val_loss: 0.0186 - val_acc: 0.9951\n",
            "lr: 0.0005\n",
            "Epoch 14/80\n",
            " - 11s - loss: 0.0195 - acc: 0.9945 - val_loss: 0.0184 - val_acc: 0.9949\n",
            "lr: 0.0005\n",
            "Epoch 15/80\n",
            " - 11s - loss: 0.0180 - acc: 0.9947 - val_loss: 0.0192 - val_acc: 0.9952\n",
            "lr: 0.0005\n",
            "Epoch 16/80\n",
            " - 11s - loss: 0.0183 - acc: 0.9950 - val_loss: 0.0173 - val_acc: 0.9953\n",
            "lr: 0.00025\n",
            "Epoch 17/80\n",
            " - 11s - loss: 0.0148 - acc: 0.9954 - val_loss: 0.0169 - val_acc: 0.9958\n",
            "lr: 0.00025\n",
            "Epoch 18/80\n",
            " - 11s - loss: 0.0139 - acc: 0.9956 - val_loss: 0.0181 - val_acc: 0.9953\n",
            "lr: 0.00025\n",
            "Epoch 19/80\n",
            " - 11s - loss: 0.0141 - acc: 0.9954 - val_loss: 0.0182 - val_acc: 0.9957\n",
            "lr: 0.00025\n",
            "Epoch 20/80\n",
            " - 11s - loss: 0.0142 - acc: 0.9958 - val_loss: 0.0187 - val_acc: 0.9954\n",
            "lr: 0.000125\n",
            "Epoch 21/80\n",
            " - 11s - loss: 0.0126 - acc: 0.9964 - val_loss: 0.0186 - val_acc: 0.9953\n",
            "lr: 0.000125\n",
            "Epoch 22/80\n",
            " - 11s - loss: 0.0118 - acc: 0.9963 - val_loss: 0.0180 - val_acc: 0.9957\n",
            "lr: 0.000125\n",
            "Epoch 23/80\n",
            " - 11s - loss: 0.0118 - acc: 0.9965 - val_loss: 0.0184 - val_acc: 0.9958\n",
            "lr: 0.000125\n",
            "Epoch 24/80\n",
            " - 11s - loss: 0.0115 - acc: 0.9966 - val_loss: 0.0177 - val_acc: 0.9959\n",
            "lr: 6.25e-05\n",
            "Epoch 25/80\n",
            " - 11s - loss: 0.0104 - acc: 0.9970 - val_loss: 0.0177 - val_acc: 0.9958\n",
            "lr: 6.25e-05\n",
            "Epoch 26/80\n",
            " - 11s - loss: 0.0109 - acc: 0.9967 - val_loss: 0.0178 - val_acc: 0.9957\n",
            "lr: 6.25e-05\n",
            "Epoch 27/80\n",
            " - 11s - loss: 0.0123 - acc: 0.9965 - val_loss: 0.0176 - val_acc: 0.9959\n",
            "lr: 6.25e-05\n",
            "Epoch 28/80\n",
            " - 11s - loss: 0.0104 - acc: 0.9970 - val_loss: 0.0181 - val_acc: 0.9959\n",
            "lr: 3.125e-05\n",
            "Epoch 29/80\n",
            " - 11s - loss: 0.0109 - acc: 0.9967 - val_loss: 0.0181 - val_acc: 0.9958\n",
            "lr: 3.125e-05\n",
            "Epoch 30/80\n",
            " - 11s - loss: 0.0105 - acc: 0.9967 - val_loss: 0.0180 - val_acc: 0.9960\n",
            "lr: 3.125e-05\n",
            "Epoch 31/80\n",
            " - 11s - loss: 0.0097 - acc: 0.9970 - val_loss: 0.0181 - val_acc: 0.9960\n",
            "lr: 3.125e-05\n",
            "Epoch 32/80\n",
            " - 11s - loss: 0.0103 - acc: 0.9970 - val_loss: 0.0184 - val_acc: 0.9959\n",
            "lr: 1.5625e-05\n",
            "Epoch 33/80\n",
            " - 11s - loss: 0.0100 - acc: 0.9970 - val_loss: 0.0185 - val_acc: 0.9956\n",
            "lr: 1.5625e-05\n",
            "Epoch 34/80\n",
            " - 11s - loss: 0.0097 - acc: 0.9970 - val_loss: 0.0184 - val_acc: 0.9956\n",
            "lr: 1.5625e-05\n",
            "Epoch 35/80\n",
            " - 11s - loss: 0.0098 - acc: 0.9972 - val_loss: 0.0185 - val_acc: 0.9959\n",
            "lr: 1.5625e-05\n",
            "Epoch 36/80\n",
            " - 11s - loss: 0.0097 - acc: 0.9972 - val_loss: 0.0183 - val_acc: 0.9959\n",
            "lr: 7.8125e-06\n",
            "Epoch 37/80\n",
            " - 11s - loss: 0.0098 - acc: 0.9972 - val_loss: 0.0183 - val_acc: 0.9959\n",
            "lr: 7.8125e-06\n",
            "Epoch 38/80\n",
            " - 11s - loss: 0.0093 - acc: 0.9972 - val_loss: 0.0183 - val_acc: 0.9958\n",
            "lr: 7.8125e-06\n",
            "Epoch 39/80\n",
            " - 11s - loss: 0.0100 - acc: 0.9970 - val_loss: 0.0186 - val_acc: 0.9959\n",
            "lr: 7.8125e-06\n",
            "Epoch 40/80\n",
            " - 11s - loss: 0.0096 - acc: 0.9971 - val_loss: 0.0185 - val_acc: 0.9960\n",
            "lr: 3.90625e-06\n",
            "Epoch 41/80\n",
            " - 11s - loss: 0.0099 - acc: 0.9969 - val_loss: 0.0185 - val_acc: 0.9961\n",
            "lr: 3.90625e-06\n",
            "Epoch 42/80\n",
            " - 11s - loss: 0.0096 - acc: 0.9970 - val_loss: 0.0184 - val_acc: 0.9959\n",
            "lr: 3.90625e-06\n",
            "Epoch 43/80\n",
            " - 11s - loss: 0.0101 - acc: 0.9971 - val_loss: 0.0185 - val_acc: 0.9959\n",
            "lr: 3.90625e-06\n",
            "Epoch 44/80\n",
            " - 11s - loss: 0.0106 - acc: 0.9970 - val_loss: 0.0183 - val_acc: 0.9960\n",
            "lr: 1.953125e-06\n",
            "Epoch 45/80\n",
            " - 11s - loss: 0.0103 - acc: 0.9968 - val_loss: 0.0183 - val_acc: 0.9958\n",
            "lr: 1.953125e-06\n",
            "Epoch 46/80\n",
            " - 11s - loss: 0.0099 - acc: 0.9972 - val_loss: 0.0184 - val_acc: 0.9959\n",
            "lr: 1.953125e-06\n",
            "Epoch 47/80\n",
            " - 11s - loss: 0.0093 - acc: 0.9972 - val_loss: 0.0185 - val_acc: 0.9959\n",
            "lr: 1.953125e-06\n",
            "Epoch 48/80\n",
            " - 11s - loss: 0.0096 - acc: 0.9970 - val_loss: 0.0182 - val_acc: 0.9960\n",
            "lr: 9.765625e-07\n",
            "Epoch 49/80\n",
            " - 11s - loss: 0.0104 - acc: 0.9971 - val_loss: 0.0184 - val_acc: 0.9959\n",
            "lr: 9.765625e-07\n",
            "Epoch 50/80\n",
            " - 11s - loss: 0.0104 - acc: 0.9969 - val_loss: 0.0183 - val_acc: 0.9958\n",
            "lr: 9.765625e-07\n",
            "Epoch 51/80\n",
            " - 11s - loss: 0.0093 - acc: 0.9974 - val_loss: 0.0184 - val_acc: 0.9958\n",
            "lr: 9.765625e-07\n",
            "Epoch 52/80\n",
            " - 11s - loss: 0.0102 - acc: 0.9973 - val_loss: 0.0184 - val_acc: 0.9959\n",
            "lr: 4.8828125e-07\n",
            "Epoch 53/80\n",
            " - 11s - loss: 0.0105 - acc: 0.9970 - val_loss: 0.0184 - val_acc: 0.9958\n",
            "lr: 4.8828125e-07\n",
            "Epoch 54/80\n",
            " - 11s - loss: 0.0092 - acc: 0.9972 - val_loss: 0.0184 - val_acc: 0.9958\n",
            "lr: 4.8828125e-07\n",
            "Epoch 55/80\n",
            " - 11s - loss: 0.0096 - acc: 0.9972 - val_loss: 0.0184 - val_acc: 0.9957\n",
            "lr: 4.8828125e-07\n",
            "Epoch 56/80\n",
            " - 11s - loss: 0.0103 - acc: 0.9971 - val_loss: 0.0183 - val_acc: 0.9959\n",
            "lr: 2.44140625e-07\n",
            "Epoch 57/80\n",
            " - 11s - loss: 0.0104 - acc: 0.9970 - val_loss: 0.0183 - val_acc: 0.9960\n",
            "lr: 2.44140625e-07\n",
            "Epoch 58/80\n",
            " - 11s - loss: 0.0098 - acc: 0.9969 - val_loss: 0.0183 - val_acc: 0.9959\n",
            "lr: 2.44140625e-07\n",
            "Epoch 59/80\n",
            " - 11s - loss: 0.0103 - acc: 0.9969 - val_loss: 0.0183 - val_acc: 0.9958\n",
            "lr: 2.44140625e-07\n",
            "Epoch 60/80\n",
            " - 11s - loss: 0.0097 - acc: 0.9972 - val_loss: 0.0184 - val_acc: 0.9959\n",
            "lr: 1.220703125e-07\n",
            "Epoch 61/80\n",
            " - 11s - loss: 0.0088 - acc: 0.9975 - val_loss: 0.0183 - val_acc: 0.9960\n",
            "lr: 1.220703125e-07\n",
            "Epoch 62/80\n",
            " - 11s - loss: 0.0096 - acc: 0.9970 - val_loss: 0.0183 - val_acc: 0.9959\n",
            "lr: 1.220703125e-07\n",
            "Epoch 63/80\n",
            " - 11s - loss: 0.0096 - acc: 0.9973 - val_loss: 0.0183 - val_acc: 0.9956\n",
            "lr: 1.220703125e-07\n",
            "Epoch 64/80\n",
            " - 11s - loss: 0.0100 - acc: 0.9969 - val_loss: 0.0183 - val_acc: 0.9958\n",
            "lr: 6.103515625e-08\n",
            "Epoch 65/80\n",
            " - 11s - loss: 0.0108 - acc: 0.9967 - val_loss: 0.0183 - val_acc: 0.9958\n",
            "lr: 6.103515625e-08\n",
            "Epoch 66/80\n",
            " - 11s - loss: 0.0102 - acc: 0.9970 - val_loss: 0.0183 - val_acc: 0.9958\n",
            "lr: 6.103515625e-08\n",
            "Epoch 67/80\n",
            " - 11s - loss: 0.0102 - acc: 0.9972 - val_loss: 0.0184 - val_acc: 0.9960\n",
            "lr: 6.103515625e-08\n",
            "Epoch 68/80\n",
            " - 11s - loss: 0.0097 - acc: 0.9971 - val_loss: 0.0184 - val_acc: 0.9958\n",
            "lr: 3.0517578125e-08\n",
            "Epoch 69/80\n",
            " - 11s - loss: 0.0102 - acc: 0.9969 - val_loss: 0.0183 - val_acc: 0.9958\n",
            "lr: 3.0517578125e-08\n",
            "Epoch 70/80\n",
            " - 11s - loss: 0.0107 - acc: 0.9969 - val_loss: 0.0183 - val_acc: 0.9957\n",
            "lr: 3.0517578125e-08\n",
            "Epoch 71/80\n",
            " - 11s - loss: 0.0101 - acc: 0.9970 - val_loss: 0.0184 - val_acc: 0.9960\n",
            "lr: 3.0517578125e-08\n",
            "Epoch 72/80\n",
            " - 11s - loss: 0.0099 - acc: 0.9973 - val_loss: 0.0184 - val_acc: 0.9958\n",
            "lr: 1.52587890625e-08\n",
            "Epoch 73/80\n",
            " - 11s - loss: 0.0099 - acc: 0.9969 - val_loss: 0.0185 - val_acc: 0.9958\n",
            "lr: 1.52587890625e-08\n",
            "Epoch 74/80\n",
            " - 11s - loss: 0.0094 - acc: 0.9970 - val_loss: 0.0184 - val_acc: 0.9959\n",
            "lr: 1.52587890625e-08\n",
            "Epoch 75/80\n",
            " - 11s - loss: 0.0098 - acc: 0.9971 - val_loss: 0.0183 - val_acc: 0.9959\n",
            "lr: 1.52587890625e-08\n",
            "Epoch 76/80\n",
            " - 11s - loss: 0.0101 - acc: 0.9969 - val_loss: 0.0184 - val_acc: 0.9958\n",
            "lr: 7.62939453125e-09\n",
            "Epoch 77/80\n",
            " - 11s - loss: 0.0101 - acc: 0.9970 - val_loss: 0.0184 - val_acc: 0.9957\n",
            "lr: 7.62939453125e-09\n",
            "Epoch 78/80\n",
            " - 11s - loss: 0.0102 - acc: 0.9969 - val_loss: 0.0183 - val_acc: 0.9959\n",
            "lr: 7.62939453125e-09\n",
            "Epoch 79/80\n",
            " - 11s - loss: 0.0097 - acc: 0.9971 - val_loss: 0.0184 - val_acc: 0.9956\n",
            "lr: 7.62939453125e-09\n",
            "Epoch 80/80\n",
            " - 11s - loss: 0.0106 - acc: 0.9968 - val_loss: 0.0185 - val_acc: 0.9958\n",
            "lr: 3.814697265625e-09\n"
          ],
          "name": "stdout"
        }
      ]
    },
    {
      "metadata": {
        "id": "9QWsnuUX3wIg",
        "colab_type": "code",
        "outputId": "4022c947-1beb-4ef6-dd9d-b7a2a9844902",
        "colab": {
          "base_uri": "https://localhost:8080/",
          "height": 50
        }
      },
      "cell_type": "code",
      "source": [
        "scores = model.evaluate(x_test, y_test)\n",
        "print(\"CNN Error: %.2f%%\" % (100-scores[1]*100))"
      ],
      "execution_count": 9,
      "outputs": [
        {
          "output_type": "stream",
          "text": [
            "10000/10000 [==============================] - 1s 110us/step\n",
            "CNN Error: 0.42%\n"
          ],
          "name": "stdout"
        }
      ]
    },
    {
      "metadata": {
        "id": "gb_jpMCLQKM3",
        "colab_type": "code",
        "outputId": "2040f4b8-fb76-402a-c8c5-d60251c97ab0",
        "colab": {
          "base_uri": "https://localhost:8080/",
          "height": 294
        }
      },
      "cell_type": "code",
      "source": [
        "# plot model accuracy\n",
        "plot_fig(1, hist)"
      ],
      "execution_count": 10,
      "outputs": [
        {
          "output_type": "display_data",
          "data": {
            "image/png": "[encoded data removed]",
            "text/plain": [
              "<Figure size 432x288 with 1 Axes>"
            ]
          },
          "metadata": {
            "tags": []
          }
        }
      ]
    },
    {
      "metadata": {
        "id": "DjG1qJh7XsX7",
        "colab_type": "code",
        "outputId": "afd1c9e4-aa85-4487-b19f-a6c91649e73f",
        "colab": {
          "base_uri": "https://localhost:8080/",
          "height": 294
        }
      },
      "cell_type": "code",
      "source": [
        "# plot learning rate\n",
        "fig = plt.figure()\n",
        "plt.plot(range(1,epochs+1),loss_history.lr,label='learning rate')\n",
        "plt.xlabel(\"epoch\")\n",
        "plt.xlim([1,epochs+1])\n",
        "plt.ylabel(\"learning rate\")\n",
        "plt.legend(loc=0)\n",
        "plt.grid(True)\n",
        "plt.title(\"Learning rate\")\n",
        "plt.show()\n"
      ],
      "execution_count": 11,
      "outputs": [
        {
          "output_type": "display_data",
          "data": {
            "image/png": "[encoded data removed]",
            "text/plain": [
              "<Figure size 432x288 with 1 Axes>"
            ]
          },
          "metadata": {
            "tags": []
          }
        }
      ]
    },
    {
      "metadata": {
        "id": "R1t_6b7S4Co3",
        "colab_type": "code",
        "outputId": "6224aee3-4f5c-4e4f-b701-047033a4c8c8",
        "colab": {
          "base_uri": "https://localhost:8080/",
          "height": 282
        }
      },
      "cell_type": "code",
      "source": [
        "image_index = 5678\n",
        "plt.imshow(x_test[image_index].reshape(28, 28),cmap='Greys')\n"
      ],
      "execution_count": 12,
      "outputs": [
        {
          "output_type": "execute_result",
          "data": {
            "text/plain": [
              "<matplotlib.image.AxesImage at 0x7fbfee809ac8>"
            ]
          },
          "metadata": {
            "tags": []
          },
          "execution_count": 12
        },
        {
          "output_type": "display_data",
          "data": {
            "image/png": "[encoded data removed]",
            "text/plain": [
              "<Figure size 432x288 with 1 Axes>"
            ]
          },
          "metadata": {
            "tags": []
          }
        }
      ]
    },
    {
      "metadata": {
        "id": "15XS8Ap366Mb",
        "colab_type": "code",
        "outputId": "0ab85e79-53af-4480-b04e-25b134ec5c3d",
        "colab": {
          "base_uri": "https://localhost:8080/",
          "height": 34
        }
      },
      "cell_type": "code",
      "source": [
        "pred = model.predict(x_test[5678].reshape(1, 1, 28, 28))\n",
        "print(pred.argmax())"
      ],
      "execution_count": 13,
      "outputs": [
        {
          "output_type": "stream",
          "text": [
            "8\n"
          ],
          "name": "stdout"
        }
      ]
    },
    {
      "metadata": {
        "id": "aRZuKbry4Ct9",
        "colab_type": "code",
        "outputId": "2bd405a0-9355-475f-d227-ba4738141380",
        "colab": {
          "base_uri": "https://localhost:8080/",
          "height": 282
        }
      },
      "cell_type": "code",
      "source": [
        "image_index = 2345\n",
        "plt.imshow(x_test[image_index].reshape(28, 28),cmap='Greys')"
      ],
      "execution_count": 14,
      "outputs": [
        {
          "output_type": "execute_result",
          "data": {
            "text/plain": [
              "<matplotlib.image.AxesImage at 0x7fbfee7e35f8>"
            ]
          },
          "metadata": {
            "tags": []
          },
          "execution_count": 14
        },
        {
          "output_type": "display_data",
          "data": {
            "image/png": "[encoded data removed]",
            "text/plain": [
              "<Figure size 432x288 with 1 Axes>"
            ]
          },
          "metadata": {
            "tags": []
          }
        }
      ]
    },
    {
      "metadata": {
        "id": "bAXUKUjU4Cwr",
        "colab_type": "code",
        "outputId": "106fb007-7e3b-4c53-fffb-0c51b685a6b8",
        "colab": {
          "base_uri": "https://localhost:8080/",
          "height": 50
        }
      },
      "cell_type": "code",
      "source": [
        "pred = model.predict(x_test[image_index].reshape(1, 1, 28, 28))\n",
        "print(pred.argmax())\n",
        "print(image_index)"
      ],
      "execution_count": 15,
      "outputs": [
        {
          "output_type": "stream",
          "text": [
            "9\n",
            "2345\n"
          ],
          "name": "stdout"
        }
      ]
    },
    {
      "metadata": {
        "id": "oMaJhxKoPVkP",
        "colab_type": "code",
        "outputId": "484dca6b-dcc3-4c22-ea31-a51131e64927",
        "colab": {
          "base_uri": "https://localhost:8080/",
          "height": 294
        }
      },
      "cell_type": "code",
      "source": [
        "import matplotlib.pyplot as plt\n",
        "\n",
        "plt.plot(hist.history['acc'])\n",
        "plt.plot(hist.history['val_acc'])\n",
        "\n",
        "# Plot legend and use the best location automatically: loc = 0\n",
        "plt.legend([\"Train acc\", \"Validation acc\"], loc = 'lower right')\n",
        "plt.title(\"Training Validation acc per Epoch\")\n",
        "plt.xlabel(\"Epoch\")\n",
        "plt.ylabel(\"acc\")\n",
        "plt.show()"
      ],
      "execution_count": 16,
      "outputs": [
        {
          "output_type": "display_data",
          "data": {
            "image/png": "[encoded data removed]",
            "text/plain": [
              "<Figure size 432x288 with 1 Axes>"
            ]
          },
          "metadata": {
            "tags": []
          }
        }
      ]
    },
    {
      "metadata": {
        "id": "-NRg7rZePVps",
        "colab_type": "code",
        "outputId": "f2059043-1b3b-4d7a-c0f9-6180612da2ea",
        "colab": {
          "base_uri": "https://localhost:8080/",
          "height": 294
        }
      },
      "cell_type": "code",
      "source": [
        "plt.plot(hist.history['loss'])\n",
        "plt.plot(hist.history['val_loss'])\n",
        "\n",
        "# Plot legend and use the best location automatically: loc = 0\n",
        "plt.legend([\"Train acc\", \"Validation acc\"], loc = 'upper right')\n",
        "plt.title(\"Training Validation acc per Epoch\")\n",
        "plt.xlabel(\"Epoch\")\n",
        "plt.ylabel(\"acc\")\n",
        "plt.show()"
      ],
      "execution_count": 17,
      "outputs": [
        {
          "output_type": "display_data",
          "data": {
            "image/png": "[encoded data removed]",
            "text/plain": [
              "<Figure size 432x288 with 1 Axes>"
            ]
          },
          "metadata": {
            "tags": []
          }
        }
      ]
    }
  ]
}